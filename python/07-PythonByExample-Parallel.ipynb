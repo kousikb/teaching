{
 "cells": [
  {
   "cell_type": "markdown",
   "metadata": {},
   "source": [
    "## Python - A Crash Course By Example\n",
    "## Parallel Computing - A Simple Start\n",
    "Dr. Victor Pankratius<br>\n",
    "Massachusetts Institute of Technology<br>\n",
    "http://www.victorpankratius.com\n",
    "\n",
    "<hr>"
   ]
  },
  {
   "cell_type": "markdown",
   "metadata": {},
   "source": [
    "### Tutorials\n",
    "Python in HPC: https://hpc.nih.gov/training/handouts/171121_python_in_hpc.pdf \n",
    "<br><br>"
   ]
  },
  {
   "cell_type": "markdown",
   "metadata": {
    "collapsed": true
   },
   "source": [
    "### Multiprocessing package\n",
    "<hr>"
   ]
  },
  {
   "cell_type": "code",
   "execution_count": 1,
   "metadata": {
    "collapsed": true
   },
   "outputs": [],
   "source": [
    "import time\n",
    "import multiprocessing as mp  #parallel \"map\""
   ]
  },
  {
   "cell_type": "code",
   "execution_count": 2,
   "metadata": {
    "collapsed": true
   },
   "outputs": [],
   "source": [
    "def long_runtime_f(x):\n",
    "    return x**2\n",
    "\n",
    "p = mp.Pool(4)"
   ]
  },
  {
   "cell_type": "code",
   "execution_count": 3,
   "metadata": {},
   "outputs": [
    {
     "name": "stdout",
     "output_type": "stream",
     "text": [
      "0.0022580623626708984 sec\n"
     ]
    }
   ],
   "source": [
    "start = time.time()\n",
    "result = p.map(long_runtime_f, range(100))\n",
    "end = time.time()\n",
    "print (\"%s sec\" % (end - start))"
   ]
  },
  {
   "cell_type": "code",
   "execution_count": 4,
   "metadata": {},
   "outputs": [
    {
     "name": "stdout",
     "output_type": "stream",
     "text": [
      "CPU count     : 8\n",
      "Python version: 3.6.2\n",
      "Compiler      : GCC 4.2.1 Compatible Apple LLVM 6.0 (clang-600.0.57)\n",
      "System        : Darwin\n",
      "Release       : 16.7.0\n",
      "Machine       : x86_64\n",
      "Processor     : i386\n",
      "Interpreter   : 64bit\n"
     ]
    }
   ],
   "source": [
    "#%% Benchmarking\n",
    "import platform\n",
    "\n",
    "\n",
    "def print_sysinfo():\n",
    "    print('CPU count     : %s' % (mp.cpu_count()))\n",
    "    print('Python version: %s' % (platform.python_version()))\n",
    "    print('Compiler      : %s' % (platform.python_compiler()))\n",
    "    print('System        : %s' % (platform.system()))\n",
    "    print('Release       : %s' % (platform.release()))\n",
    "    print('Machine       : %s' % (platform.machine()))\n",
    "    print('Processor     : %s' % (platform.processor()))\n",
    "    print('Interpreter   : %s' % (platform.architecture()[0]))\n",
    "    \n",
    "print_sysinfo()"
   ]
  },
  {
   "cell_type": "markdown",
   "metadata": {},
   "source": [
    "### JobLib\n",
    "https://pythonhosted.org/joblib/index.html\n",
    "<hr>"
   ]
  },
  {
   "cell_type": "markdown",
   "metadata": {},
   "source": [
    "#### Embarassing Parallelism Demo"
   ]
  },
  {
   "cell_type": "code",
   "execution_count": 5,
   "metadata": {
    "collapsed": true
   },
   "outputs": [],
   "source": [
    "import math as m\n",
    "import joblib as jb\n",
    "\n",
    "def myF(x):\n",
    "    return m.cos(m.sqrt(x**4))"
   ]
  },
  {
   "cell_type": "code",
   "execution_count": 6,
   "metadata": {},
   "outputs": [
    {
     "name": "stdout",
     "output_type": "stream",
     "text": [
      "0.009360074996948242 sec\n"
     ]
    }
   ],
   "source": [
    "#sequential\n",
    "start = time.time()\n",
    "result_seq=[myF(i) for i in range(10000)]\n",
    "end = time.time()\n",
    "print (\"%s sec\" % (end - start))\n",
    "#> 0.0117011070251 sec"
   ]
  },
  {
   "cell_type": "code",
   "execution_count": 7,
   "metadata": {},
   "outputs": [
    {
     "name": "stdout",
     "output_type": "stream",
     "text": [
      "(<function myF at 0x109046378>, (3,), {})\n"
     ]
    }
   ],
   "source": [
    "#delayed returns a function, its arguments, and its keyword arguments as a tuple.\n",
    "print (jb.delayed(myF)(3))\n",
    "#> (<function myF at 0x133658e60>, (3,), {})"
   ]
  },
  {
   "cell_type": "code",
   "execution_count": 8,
   "metadata": {},
   "outputs": [
    {
     "name": "stdout",
     "output_type": "stream",
     "text": [
      "0.6531469821929932 sec\n"
     ]
    }
   ],
   "source": [
    "#parallel\n",
    "start = time.time()\n",
    "result_par = jb.Parallel(n_jobs=4,verbose=0)(jb.delayed(myF)(i) for i in range(10000))\n",
    "end = time.time()\n",
    "print (\"%s sec\" % (end - start))\n",
    "#> 2.59109902382 sec  -> slower than sequential; default uses multiprocessing package\n",
    "#> 1.94945502281 sec  with backend=\"threading\""
   ]
  },
  {
   "cell_type": "code",
   "execution_count": 9,
   "metadata": {
    "collapsed": true
   },
   "outputs": [],
   "source": [
    "## Question / exercise: why is this parallel version slower than sequential version? Explain!"
   ]
  },
  {
   "cell_type": "markdown",
   "metadata": {},
   "source": [
    "#### Fork - Join Parallelism Demo"
   ]
  },
  {
   "cell_type": "code",
   "execution_count": 10,
   "metadata": {
    "collapsed": true
   },
   "outputs": [],
   "source": [
    "import multiprocessing as mp\n",
    "import random\n",
    "import string\n",
    "\n",
    "## Define an output queue\n",
    "output = mp.Queue()"
   ]
  },
  {
   "cell_type": "code",
   "execution_count": 11,
   "metadata": {
    "collapsed": true
   },
   "outputs": [],
   "source": [
    "## define a example function\n",
    "def rand_string(length, output):\n",
    "    \"\"\" Generates a random string of numbers, lower- and uppercase chars. \"\"\"\n",
    "    rand_str = ''.join(random.choice(\n",
    "                    string.ascii_lowercase\n",
    "                    + string.ascii_uppercase\n",
    "                    + string.digits)\n",
    "               for i in range(length))\n",
    "    output.put(rand_str)"
   ]
  },
  {
   "cell_type": "code",
   "execution_count": 12,
   "metadata": {
    "collapsed": true
   },
   "outputs": [],
   "source": [
    "## Setup a list of processes that we want to run\n",
    "processes = [mp.Process(target=rand_string, args=(5, output)) for x in range(4)]"
   ]
  },
  {
   "cell_type": "code",
   "execution_count": 13,
   "metadata": {
    "collapsed": true
   },
   "outputs": [],
   "source": [
    "## Run processes\n",
    "for p in processes:\n",
    "    p.start()"
   ]
  },
  {
   "cell_type": "code",
   "execution_count": 14,
   "metadata": {
    "collapsed": true
   },
   "outputs": [],
   "source": [
    "## Exit the completed processes\n",
    "for p in processes:\n",
    "    p.join()"
   ]
  },
  {
   "cell_type": "code",
   "execution_count": 15,
   "metadata": {},
   "outputs": [
    {
     "name": "stdout",
     "output_type": "stream",
     "text": [
      "['e9C1x', 'bG3Fs', 'unt5z', 'CMfbH']\n"
     ]
    }
   ],
   "source": [
    "## Get process results from the output queue\n",
    "results = [output.get() for p in processes]\n",
    "print(results)"
   ]
  },
  {
   "cell_type": "markdown",
   "metadata": {},
   "source": [
    "#### Parallel Map and Apply"
   ]
  },
  {
   "cell_type": "code",
   "execution_count": 16,
   "metadata": {
    "collapsed": true
   },
   "outputs": [],
   "source": [
    "def cube(x):\n",
    "    return x**3"
   ]
  },
  {
   "cell_type": "code",
   "execution_count": 17,
   "metadata": {},
   "outputs": [
    {
     "name": "stdout",
     "output_type": "stream",
     "text": [
      "[1, 8, 27, 64, 125, 216]\n"
     ]
    }
   ],
   "source": [
    "pool = mp.Pool(processes=4)\n",
    "results = [pool.apply(cube, args=(x,)) for x in range(1,7)]\n",
    "print(results)"
   ]
  },
  {
   "cell_type": "code",
   "execution_count": 18,
   "metadata": {},
   "outputs": [
    {
     "name": "stdout",
     "output_type": "stream",
     "text": [
      "[1, 8, 27, 64, 125, 216]\n"
     ]
    }
   ],
   "source": [
    "pool = mp.Pool(processes=4)\n",
    "results = pool.map(cube, range(1,7))\n",
    "print(results)"
   ]
  },
  {
   "cell_type": "code",
   "execution_count": 19,
   "metadata": {},
   "outputs": [
    {
     "name": "stdout",
     "output_type": "stream",
     "text": [
      "[1, 8, 27, 64, 125, 216]\n"
     ]
    }
   ],
   "source": [
    "pool = mp.Pool(processes=4)\n",
    "results = [pool.apply_async(cube, args=(x,)) for x in range(1,7)]\n",
    "output = [p.get() for p in results]\n",
    "print(output)"
   ]
  },
  {
   "cell_type": "code",
   "execution_count": 20,
   "metadata": {},
   "outputs": [
    {
     "name": "stdout",
     "output_type": "stream",
     "text": [
      "9.14099655346945e-06\n"
     ]
    }
   ],
   "source": [
    "import timeit\n",
    "print (timeit.Timer('cube(1000)',\n",
    "        'from __main__ import cube').timeit(number=1))"
   ]
  }
 ],
 "metadata": {
  "kernelspec": {
   "display_name": "Python 3",
   "language": "python",
   "name": "python3"
  },
  "language_info": {
   "codemirror_mode": {
    "name": "ipython",
    "version": 3
   },
   "file_extension": ".py",
   "mimetype": "text/x-python",
   "name": "python",
   "nbconvert_exporter": "python",
   "pygments_lexer": "ipython3",
   "version": "3.6.2"
  }
 },
 "nbformat": 4,
 "nbformat_minor": 2
}
