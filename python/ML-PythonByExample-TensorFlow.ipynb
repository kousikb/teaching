{
 "cells": [
  {
   "cell_type": "markdown",
   "metadata": {},
   "source": [
    "# Python - A Crash Course By Example\n",
    "\n",
    "## Tensorflow\n",
    "\n",
    "Dr. Victor Pankratius<br>\n",
    "Massachusetts Institute of Technology<br>\n",
    "http://www.victorpankratius.com"
   ]
  },
  {
   "cell_type": "markdown",
   "metadata": {},
   "source": [
    "### Background\n",
    "\n",
    "TensorFlow:\n",
    "Large-Scale Machine Learning on Heterogeneous Distributed Systems, Abadi et al, 2015, Google Research\n",
    "http://download.tensorflow.org/paper/whitepaper2015.pdf\n",
    "\n",
    "\n",
    "In principle, your program is expressed as a Dataflow graph. Dataflow programming languages have a rich history, see https://en.wikipedia.org/wiki/Dataflow_programming \n",
    "\n",
    "In Tensorflow, you can specify dataflow graphs using:\n",
    "- Element-wise mathematical operations Add, Sub, Mul, Div, Exp, Log, Greater, Less, Equal, ...\n",
    "- Array operations Concat, Slice, Split, Constant, Rank, Shape, Shuffle, ...\n",
    "- Matrix operations MatMul, MatrixInverse, MatrixDeterminant, ...\n",
    "- Stateful operations Variable, Assign, AssignAdd, ...\n",
    "- Neural-net building blocks SoftMax, Sigmoid, ReLU, Convolution2D, MaxPool, ...\n",
    "- Checkpointing operations Save, Restore\n",
    "- Queue and synchronization operations Enqueue, Dequeue, MutexAcquire, MutexRelease, ...\n",
    "- Control flow operations Merge, Switch, Enter, Leave, NextIteration\n",
    "\n",
    "\n",
    "There are other higher-level APIs that are built on top of Tensorflow to provide more practical abstractions, e.g., \n",
    "\n",
    "- Keras https://keras.io/ for deep learning\n",
    "\n",
    "\n",
    "How to \"program\" in Tensorflow?:\n",
    "- Phase 1: Construct a data flow graph, using Tensorflow operations\n",
    "- Phase 2: Use a \"session\" to execute the graph and its operations"
   ]
  },
  {
   "cell_type": "markdown",
   "metadata": {},
   "source": [
    "#### Data Types\n",
    "\n",
    "TF has data types, e.g., \n",
    "\n",
    "---\n",
    "##### Constants\n",
    "\n",
    "```python\n",
    "tf.constant(\n",
    "    value,\n",
    "    dtype=None,\n",
    "    shape=None,\n",
    "    name='Const',\n",
    "    verify_shape=False\n",
    ")\n",
    "```\n",
    "   \n",
    "```python\n",
    "#Constant 1-D Tensor populated with value list.\n",
    "tensor = tf.constant([1, 2, 3, 4, 5, 6, 7]) => [1 2 3 4 5 6 7]\n",
    "```\n",
    "\n",
    "\n",
    "```python\n",
    "# Constant 2-D tensor populated with scalar value -1.\n",
    "tensor = tf.constant(-1.0, shape=[2, 3]) => [[-1. -1. -1.]\n",
    "                                             [-1. -1. -1.]]\n",
    "```\n",
    "\n",
    "```python\n",
    "# Another example\n",
    "c = tf.constant([[1.0, 2.0], [3.0, 4.0]])\n",
    "```\n",
    "https://www.tensorflow.org/api_docs/python/tf/constant\n",
    "\n",
    "---\n",
    "##### Variables\n",
    "```python\n",
    "w = tf.Variable(<initial-value>, name=<optional-name>)\n",
    "```\n",
    "    \n",
    "maintain state in dataflow graph across calls to run(). Add variable to graph by creating an instance of the class Variable.\n",
    "\n",
    "```python\n",
    "my_variable = tf.get_variable(\"my_variable\", [1, 2, 3])\n",
    "my_int_variable = tf.get_variable(\"my_int_variable\", [1, 2, 3], dtype=tf.int32,\n",
    "  initializer=tf.zeros_initializer)\n",
    "```\n",
    "\n",
    "https://www.tensorflow.org/api_docs/python/tf/Variable\n",
    "\n",
    "---\n",
    "##### Tensor\n",
    "\n",
    "tf.Tensor is a class. In TensorFlow, a Tensor is a symbolic handle to one of the outputs of an Operation. It does not hold the values of that operation's output, but instead provides a means of computing those values in a TensorFlow tf.Session.\n",
    "\n",
    "https://www.tensorflow.org/api_docs/python/tf/Tensor\n",
    "\n",
    "\n",
    "---\n",
    "##### Placeholder\n",
    "\n",
    "Sometimes, we don't know the actual values needed in the dataflow graph because they are provided later (e.g., think of a neural network fed with data later). Therefore, we need to assemble the graph without knowing the actual values needed for computation. This is why placeholders are needed: \n",
    "\n",
    "```python\n",
    "tf.placeholder(\n",
    "    dtype,\n",
    "    shape=None,\n",
    "    name=None\n",
    ")\n",
    "```\n",
    "\n",
    "Inserts a placeholder for a tensor.\n",
    "```python\n",
    "# create a placeholder of type float 32-bit, shape is a vector of 3 elements\n",
    "a = tf.placeholder(tf.float32, shape=[3])\n",
    "```\n",
    "https://www.tensorflow.org/api_docs/python/tf/placeholder\n",
    "\n",
    "---\n",
    "##### Dataflow Graph\n",
    "\n",
    "A tf.Graph contains two relevant kinds of information:\n",
    "- Graph structure: The nodes and edges of the graph\n",
    "- Graph collections: metadata. For example, when you create a tf.Variable, it is added by default to collections representing \"global variables\" and \"trainable variables\".\n",
    "\n",
    "The easiest way to create a visualization for TensorBoard is to pass a tf.Graph when creating the tf.summary.FileWriter.\n",
    "\n",
    "https://www.tensorflow.org/guide/graphs <br>\n",
    "https://www.tensorflow.org/guide/graph_viz"
   ]
  },
  {
   "cell_type": "code",
   "execution_count": 4,
   "metadata": {},
   "outputs": [],
   "source": [
    "import tensorflow as tf"
   ]
  },
  {
   "cell_type": "markdown",
   "metadata": {},
   "source": [
    "## Demo: Manually create a simple dataflow graph & visualize it in TensorBoard"
   ]
  },
  {
   "cell_type": "code",
   "execution_count": null,
   "metadata": {},
   "outputs": [],
   "source": [
    "#clear defined variables etc.\n",
    "tf.reset_default_graph()   \n",
    "\n",
    "# create a dataflow graph\n",
    "a = tf.constant(3, name=\"a\",dtype=tf.float32)\n",
    "b = tf.constant(5, name=\"b\",dtype=tf.float32)\n",
    "c = tf.add(a, b, name=\"add\")\n",
    "\n",
    "# create a another subgraph\n",
    "d = tf.constant([[1.0, 2.0], [3.0, 4.0]],name=\"tensor1\")\n",
    "e = tf.constant([[1.0, 1.0], [0.0, 1.0]],name=\"tensor2\")\n",
    "f = tf.matmul(d, e)\n",
    "\n",
    "#connect the two pieces\n",
    "g = tf.add(c,tf.reduce_mean(f))\n",
    "\n",
    "with tf.Session() as s:\n",
    "    # or creating the writer inside the session\n",
    "    writer = tf.summary.FileWriter('./graphs', s.graph)\n",
    "    print(s.run(c))\n",
    "    print(s.run(f))\n",
    "    print(s.run(g))\n",
    "    \n",
    "# close the writer when you’re done using it\n",
    "writer.close()\n",
    "\n",
    "#in comamnd line, run \"tensorboard --logdir=“/graphs” --port=6006\", open http://localhost:6006 in Web browser"
   ]
  },
  {
   "cell_type": "markdown",
   "metadata": {},
   "source": [
    "## Demo: Simple linear regression from an XLS file"
   ]
  },
  {
   "cell_type": "markdown",
   "metadata": {},
   "source": [
    "Based on http://web.stanford.edu/class/cs20si/lectures/notes_03.pdf"
   ]
  },
  {
   "cell_type": "code",
   "execution_count": 159,
   "metadata": {},
   "outputs": [],
   "source": [
    "import numpy as np\n",
    "import matplotlib.pyplot as plt\n",
    "import xlrd\n",
    "#clear defined variables etc.\n",
    "tf.reset_default_graph()   "
   ]
  },
  {
   "cell_type": "code",
   "execution_count": 160,
   "metadata": {},
   "outputs": [],
   "source": [
    "DATA_FILE = \"data.xls\""
   ]
  },
  {
   "cell_type": "code",
   "execution_count": 161,
   "metadata": {},
   "outputs": [
    {
     "data": {
      "text/plain": [
       "<matplotlib.collections.PathCollection at 0xb3c3b2eb8>"
      ]
     },
     "execution_count": 161,
     "metadata": {},
     "output_type": "execute_result"
    },
    {
     "data": {
      "image/png": "[encoded data removed]",
      "text/plain": [
       "<Figure size 432x288 with 1 Axes>"
      ]
     },
     "metadata": {
      "needs_background": "light"
     },
     "output_type": "display_data"
    }
   ],
   "source": [
    "# Step 1: read in data from the .xls file\n",
    "\n",
    "book = xlrd.open_workbook(DATA_FILE, encoding_override=\"utf-8\")\n",
    "sheet = book.sheet_by_index(0)\n",
    "data = np.asarray([sheet.row_values(i) for i in range(1, sheet.nrows)])\n",
    "n_samples = sheet.nrows - 1\n",
    "\n",
    "plt.scatter(data[:,0], data[:,1])"
   ]
  },
  {
   "cell_type": "code",
   "execution_count": 162,
   "metadata": {},
   "outputs": [],
   "source": [
    "# Step 2: create placeholders for input X and label Y\n",
    "\n",
    "X = tf.placeholder(tf.float32, name=\"X\")\n",
    "Y = tf.placeholder(tf.float32, name=\"Y\")"
   ]
  },
  {
   "cell_type": "code",
   "execution_count": 163,
   "metadata": {},
   "outputs": [],
   "source": [
    "# Step 3: create weight and bias, initialized to 0\n",
    "\n",
    "w = tf.Variable(0.0, name=\"weights\")\n",
    "b = tf.Variable(0.0, name=\"bias\")"
   ]
  },
  {
   "cell_type": "code",
   "execution_count": 176,
   "metadata": {},
   "outputs": [],
   "source": [
    "# Step 4: construct model to predict Y from X\n",
    "\n",
    "Y_predicted = X * w + b"
   ]
  },
  {
   "cell_type": "code",
   "execution_count": 177,
   "metadata": {},
   "outputs": [],
   "source": [
    "# Step 5: use the square error as the loss function\n",
    "\n",
    "loss = tf.square(Y - Y_predicted, name=\"loss\")"
   ]
  },
  {
   "cell_type": "code",
   "execution_count": 178,
   "metadata": {},
   "outputs": [],
   "source": [
    "# Step 6: using gradient descent with learning rate of 0.01 to minimize loss\n",
    "\n",
    "optimizer = tf.train.GradientDescentOptimizer(learning_rate=0.001).minimize(loss)"
   ]
  },
  {
   "cell_type": "code",
   "execution_count": 179,
   "metadata": {},
   "outputs": [],
   "source": [
    "with tf.Session() as sess:\n",
    "    # Step 7: initialize the necessary variables, in this case, w and b\n",
    "    sess.run(tf.global_variables_initializer())\n",
    "    \n",
    "    # Step 8: train the model\n",
    "    for i in range(10): # run 10 epochs\n",
    "        for x, y in data:\n",
    "            # Session runs train_op to minimize loss\n",
    "            sess.run([optimizer], feed_dict={X: x, Y:y})\n",
    " \n",
    "    # Step 9: output the values of w and b\n",
    "    w_value, b_value = sess.run([w, b])"
   ]
  },
  {
   "cell_type": "code",
   "execution_count": 180,
   "metadata": {},
   "outputs": [
    {
     "name": "stdout",
     "output_type": "stream",
     "text": [
      "0.44914556 0.34561116\n"
     ]
    }
   ],
   "source": [
    "print(w_value,b_value)"
   ]
  },
  {
   "cell_type": "code",
   "execution_count": 181,
   "metadata": {},
   "outputs": [
    {
     "data": {
      "image/png": "[encoded data removed]",
      "text/plain": [
       "<Figure size 432x288 with 1 Axes>"
      ]
     },
     "metadata": {
      "needs_background": "light"
     },
     "output_type": "display_data"
    }
   ],
   "source": [
    "# Plot model prediction and actual data\n",
    "x = np.linspace(np.min(data[:,0]), np.max(data[:,0]), 500)\n",
    "fig, ax = plt.subplots()\n",
    "ax.plot(x, x*w_value+b_value, '--', linewidth=2,label='model')\n",
    "ax.scatter(data[:,0], data[:,1])\n",
    "plt.show()"
   ]
  },
  {
   "cell_type": "markdown",
   "metadata": {},
   "source": [
    "---\n",
    "\n",
    "### Additional pointers: details & useful material\n",
    "\n",
    "Stanford CS 20SI: TensorFlow for Deep Learning Research, Huyen et al.\n",
    "\n",
    "#### TensorFlow\n",
    "\n",
    "- Introduction to TensorFlow:<br> \n",
    "http://web.stanford.edu/class/cs20si/lectures/notes_01.pdf<br>\n",
    "http://web.stanford.edu/class/cs20si/lectures/slides_01.pdf<br><br>\n",
    "\n",
    "- TensorFlow operations:<br>http://web.stanford.edu/class/cs20si/lectures/notes_02.pdf<br> http://web.stanford.edu/class/cs20si/lectures/slides_02.pdf<br><br>\n",
    "\n",
    "- Logistic and linear regression rxample: <br>http://web.stanford.edu/class/cs20si/lectures/notes_03.pdf<br>http://web.stanford.edu/class/cs20si/lectures/slides_03.pdf<br><br>\n",
    "\n",
    "- Structuring a model:<br> http://web.stanford.edu/class/cs20si/lectures/notes_04.pdf<br>http://web.stanford.edu/class/cs20si/lectures/slides_04.pdf<br><br> \n",
    "\n",
    "- Manage experiments, visualizing loss:<br> http://web.stanford.edu/class/cs20si/lectures/notes_05.pdf<br>http://web.stanford.edu/class/cs20si/lectures/slides_05.pdf<br><br> \n",
    "\n",
    "- CNN's + style transfer <br> http://web.stanford.edu/class/cs20si/lectures/slides_06.pdf<br><br>\n",
    "\n",
    "- Convolutions in Tensorflow: <br>http://web.stanford.edu/class/cs20si/lectures/notes_07_draft.pdf<br>http://web.stanford.edu/class/cs20si/lectures/slides_07.pdf<br>http://colah.github.io/posts/2014-07-Understanding-Convolutions/<br><br>\n",
    "\n",
    "- Input Pipeline:<br>\n",
    "http://web.stanford.edu/class/cs20si/lectures/notes_09.pdf<br>\n",
    "http://web.stanford.edu/class/cs20si/lectures/slides_09.pdf<br><br>\n",
    "\n",
    "- Recurrent Neural Networks:<br>\n",
    "http://web.stanford.edu/class/cs20si/lectures/slides_11.pdf<br><br>\n",
    "\n",
    "#### Keras\n",
    "\n",
    "- http://web.stanford.edu/class/cs20si/lectures/march9guestlecture.pdf"
   ]
  }
 ],
 "metadata": {
  "kernelspec": {
   "display_name": "Python 3",
   "language": "python",
   "name": "python3"
  },
  "language_info": {
   "codemirror_mode": {
    "name": "ipython",
    "version": 3
   },
   "file_extension": ".py",
   "mimetype": "text/x-python",
   "name": "python",
   "nbconvert_exporter": "python",
   "pygments_lexer": "ipython3",
   "version": "3.6.8"
  }
 },
 "nbformat": 4,
 "nbformat_minor": 2
}
