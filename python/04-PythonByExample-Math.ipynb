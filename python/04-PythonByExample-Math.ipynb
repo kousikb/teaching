{
 "cells": [
  {
   "cell_type": "markdown",
   "metadata": {},
   "source": [
    "## Python - A Crash Course By Example\n",
    "## Math\n",
    "Dr. Victor Pankratius<br>\n",
    "Massachusetts Institute of Technology<br>\n",
    "http://www.victorpankratius.com\n",
    "\n",
    "<hr>"
   ]
  },
  {
   "cell_type": "code",
   "execution_count": 41,
   "metadata": {
    "collapsed": true
   },
   "outputs": [],
   "source": [
    "#*******************************************************************\n",
    "# Symbolic Math with SymPy www.sympy.org\n",
    "# Notes: Examples carry import package prefix \"s\" for educational purposes;\n",
    "# use 'from sympy impot *' otherwise. \n",
    "# See http://docs.sympy.org/latest/index.html for configuration of Latex\n",
    "# output and other functionality\n",
    "\n",
    "import sympy as s"
   ]
  },
  {
   "cell_type": "code",
   "execution_count": 42,
   "metadata": {},
   "outputs": [
    {
     "name": "stdout",
     "output_type": "stream",
     "text": [
      "Eq(Integral(exp(x)*cos(x), x), exp(x)*sin(x)/2 + exp(x)*cos(x)/2)\n"
     ]
    }
   ],
   "source": [
    "x, y = s.symbols('x y')\n",
    "a = s.Integral(s.cos(x)*s.exp(x), x)\n",
    "print ( s.Eq(a,a.doit()) )\n",
    "#> Integral(exp(x)*cos(x), x) == exp(x)*sin(x)/2 + exp(x)*cos(x)/2"
   ]
  },
  {
   "cell_type": "code",
   "execution_count": 44,
   "metadata": {},
   "outputs": [
    {
     "name": "stdout",
     "output_type": "stream",
     "text": [
      "sqrt(3)\n",
      "2*sqrt(2)\n",
      "1.00000000000000000000000000000\n",
      "3.14159265358979323846264338328\n"
     ]
    }
   ],
   "source": [
    "print ( s.sqrt(3) )        #> sqrt(3)\n",
    "print ( s.sqrt(8) )        #> 2*sqrt(2)\n",
    "print ( s.Float(1.0, 30))  #> 1.00000000000000000000000000000\n",
    "print ( s.N(s.pi,30))      #> 3.14159265358979323846264338328"
   ]
  },
  {
   "cell_type": "code",
   "execution_count": 45,
   "metadata": {},
   "outputs": [
    {
     "name": "stdout",
     "output_type": "stream",
     "text": [
      "x + 2*y**2\n",
      "2*x + 2*y**2\n",
      "x*(x + 2*y**2)\n"
     ]
    }
   ],
   "source": [
    "expr = x + 2*y**2\n",
    "print (expr)                                  #> x + 2*y**2\n",
    "print (expr + x)                              #> 2*x + 2*y**2\n",
    "print (s.factor (expr*x))                     #> x*(x + 2*y**2)"
   ]
  },
  {
   "cell_type": "code",
   "execution_count": 47,
   "metadata": {},
   "outputs": [
    {
     "name": "stdout",
     "output_type": "stream",
     "text": [
      "4*y\n",
      "1\n",
      "1\n"
     ]
    }
   ],
   "source": [
    "print (s.diff(expr+x , y) )                   #> 4*y\n",
    "print (s.integrate(s.exp(-x), (x, 0, s.oo)))  #> 1\n",
    "print (s.limit(s.sin(x)/x, x, 0)  )           #> 1"
   ]
  },
  {
   "cell_type": "code",
   "execution_count": 48,
   "metadata": {
    "collapsed": true
   },
   "outputs": [],
   "source": [
    "M = s.Matrix([[1, 3], [-2, 3]])\n",
    "N = s.Matrix([[0, 3], [0, 7]])"
   ]
  },
  {
   "cell_type": "code",
   "execution_count": 49,
   "metadata": {},
   "outputs": [
    {
     "name": "stdout",
     "output_type": "stream",
     "text": [
      "Matrix([[1, 6], [-2, 10]])\n"
     ]
    }
   ],
   "source": [
    "print (M+N)               #$> Matrix([[1, 6], [-2, 10]])"
   ]
  },
  {
   "cell_type": "code",
   "execution_count": 50,
   "metadata": {},
   "outputs": [
    {
     "name": "stdout",
     "output_type": "stream",
     "text": [
      "Matrix([[-5, 12], [-8, 3]])\n"
     ]
    }
   ],
   "source": [
    "#Square matrix\n",
    "print (M**2)              #> Matrix([[-5, 12], [-8, 3]])"
   ]
  },
  {
   "cell_type": "code",
   "execution_count": 51,
   "metadata": {},
   "outputs": [
    {
     "name": "stdout",
     "output_type": "stream",
     "text": [
      "Matrix([[1/3, -1/3], [2/9, 1/9]])\n"
     ]
    }
   ],
   "source": [
    "#Matrix inversion\n",
    "print (M**-1)             #>Matrix([[1/3, -1/3], [2/9, 1/9]])"
   ]
  },
  {
   "cell_type": "code",
   "execution_count": 52,
   "metadata": {},
   "outputs": [
    {
     "name": "stdout",
     "output_type": "stream",
     "text": [
      "{2 - sqrt(5)*I: 1, 2 + sqrt(5)*I: 1}\n"
     ]
    }
   ],
   "source": [
    "print (M.eigenvals())     #> {3/2 + sqrt(17)/2: 1, -sqrt(17)/2 + 3/2: 1}"
   ]
  },
  {
   "cell_type": "code",
   "execution_count": 53,
   "metadata": {},
   "outputs": [
    {
     "name": "stdout",
     "output_type": "stream",
     "text": [
      "Matrix([[1, 0, 0], [0, 1, 0], [0, 0, 1]])\n"
     ]
    }
   ],
   "source": [
    "print (s.eye(3))          #> Matrix([[1, 0, 0], [0, 1, 0], [0, 0, 1]])\n"
   ]
  },
  {
   "cell_type": "code",
   "execution_count": 54,
   "metadata": {},
   "outputs": [
    {
     "name": "stdout",
     "output_type": "stream",
     "text": [
      "lamda**2 - 4*lamda + 9\n"
     ]
    }
   ],
   "source": [
    "#Characteristic polynomial\n",
    "lamda = s.symbols('lamda')\n",
    "p = M.charpoly(lamda)\n",
    "print (s.factor(p))       #> lamda**2 - 4*lamda + 9\n"
   ]
  },
  {
   "cell_type": "code",
   "execution_count": 56,
   "metadata": {},
   "outputs": [
    {
     "name": "stdout",
     "output_type": "stream",
     "text": [
      "[-1, 1]\n"
     ]
    }
   ],
   "source": [
    "#Equation x^2=1 is represented by Eq(x**2, 1)\n",
    "print (s.solve(s.Eq(x**2,1),x)   ) \n",
    "#> [-1, 1]"
   ]
  },
  {
   "cell_type": "code",
   "execution_count": 57,
   "metadata": {},
   "outputs": [
    {
     "name": "stdout",
     "output_type": "stream",
     "text": [
      "{x: 1/2, y: 5/2}\n"
     ]
    }
   ],
   "source": [
    "print ( s.solve([x - y + 2, x + y - 3], [x, y]) )\n",
    "#> {x: 1/2, y: 5/2}"
   ]
  },
  {
   "cell_type": "code",
   "execution_count": 58,
   "metadata": {},
   "outputs": [
    {
     "name": "stdout",
     "output_type": "stream",
     "text": [
      "Eq(f(x), (C1 + C2*x)*exp(x) + cos(x)/2)\n"
     ]
    }
   ],
   "source": [
    "#Differential equations\n",
    "#solve f''(x)-2f'(x)+f(x) = sin(x)\n",
    "f = s.symbols('f', cls=s.Function)\n",
    "diffEq= s.Eq(f(x).diff(x, x) - 2*f(x).diff(x) + f(x), s.sin(x))\n",
    "print ( s.dsolve(diffEq,f(x)) )\n",
    "#> f(x) == (C1 + C2*x)*exp(x) + cos(x)/2"
   ]
  },
  {
   "cell_type": "code",
   "execution_count": 59,
   "metadata": {
    "collapsed": true
   },
   "outputs": [],
   "source": [
    "#*******************************************************************\n",
    "# NumPy http://www.numpy.org\n",
    "# Notes: Examples carry import package prefix \"n\" for educational purposes;\n",
    "# Other Python packages build on top of NumPy, e.g., numpy arrays in particular\n",
    "\n",
    "import numpy as n"
   ]
  },
  {
   "cell_type": "code",
   "execution_count": 60,
   "metadata": {},
   "outputs": [
    {
     "name": "stdout",
     "output_type": "stream",
     "text": [
      "[[0 1 2 3]\n",
      " [4 5 6 7]]\n"
     ]
    }
   ],
   "source": [
    "#******\n",
    "# NumPy Arrays\n",
    "a = n.arange(8).reshape(2, 4)\n",
    "print (a)\n",
    "#> [[0 1 2 3]\n",
    "#   [4 5 6 7]]"
   ]
  },
  {
   "cell_type": "code",
   "execution_count": 61,
   "metadata": {},
   "outputs": [
    {
     "name": "stdout",
     "output_type": "stream",
     "text": [
      "<class 'numpy.ndarray'>\n"
     ]
    }
   ],
   "source": [
    "print (type(a))   #> <type 'numpy.ndarray'>\n",
    "#this is used in some other Python packages, e.g., PANDAS"
   ]
  },
  {
   "cell_type": "code",
   "execution_count": 62,
   "metadata": {
    "scrolled": true
   },
   "outputs": [
    {
     "name": "stdout",
     "output_type": "stream",
     "text": [
      "[1.  3.2 5.4 7.6 9.8]\n",
      "[10.  12.5 15.  17.5 20. ]\n"
     ]
    }
   ],
   "source": [
    "#returns array (instead of lists);  from, to, step\n",
    "a = n.arange(1, 10, 2.2)\n",
    "print (a)                             #> [ 1.   3.2  5.4  7.6  9.8]\n",
    "#returns array; from, to, number of desired elements\n",
    "b = n.linspace(10, 20, 5)\n",
    "print (b)  "
   ]
  },
  {
   "cell_type": "code",
   "execution_count": 24,
   "metadata": {},
   "outputs": [
    {
     "name": "stdout",
     "output_type": "stream",
     "text": [
      "[100.8 156.2 224.2 307.2 399.6]\n"
     ]
    }
   ],
   "source": [
    "print ( n.round(n.sin(a)+b**2,decimals=1)   )\n",
    "#> [ 100.8  156.2  224.2  307.2  399.6]"
   ]
  },
  {
   "cell_type": "code",
   "execution_count": 25,
   "metadata": {},
   "outputs": [
    {
     "name": "stdout",
     "output_type": "stream",
     "text": [
      "[False False False  True  True]\n"
     ]
    }
   ],
   "source": [
    "print (b>15)\n",
    "#> [False False False  True  True]"
   ]
  },
  {
   "cell_type": "code",
   "execution_count": 26,
   "metadata": {},
   "outputs": [
    {
     "name": "stdout",
     "output_type": "stream",
     "text": [
      "[[0.91932649 0.58547149]\n",
      " [0.61376537 0.6029447 ]]\n"
     ]
    }
   ],
   "source": [
    "print (n.random.random((2,2)))\n",
    "#> [[ 0.14562583  0.46373884]\n",
    "#   [ 0.91500029  0.92240866]]"
   ]
  },
  {
   "cell_type": "code",
   "execution_count": 27,
   "metadata": {},
   "outputs": [
    {
     "name": "stdout",
     "output_type": "stream",
     "text": [
      "[[ 1.12475209 -0.21744672]\n",
      " [-0.58067998  1.78836582]]\n"
     ]
    }
   ],
   "source": [
    "print (n.random.normal(0,1,(2,2)))\n",
    "#> [[ 0.96817265  1.03604679]\n",
    "#   [ 1.04374014  0.51092976]]"
   ]
  },
  {
   "cell_type": "code",
   "execution_count": 28,
   "metadata": {
    "collapsed": true
   },
   "outputs": [],
   "source": [
    "##\n",
    "#How to simplify data representation\n",
    "palette = n.array( [[0,0,0],                # black\n",
    "                    [255,0,0],              # red\n",
    "                    [0,255,0],              # green\n",
    "                    [0,0,255],              # blue\n",
    "                    [255,255,255] ] )       # white"
   ]
  },
  {
   "cell_type": "code",
   "execution_count": 29,
   "metadata": {
    "collapsed": true
   },
   "outputs": [],
   "source": [
    "image = n.array( [ [ 0, 1, 2, 0 ],          # palette color index\n",
    "                   [ 0, 3, 4, 0 ]  ] )"
   ]
  },
  {
   "cell_type": "code",
   "execution_count": 30,
   "metadata": {},
   "outputs": [
    {
     "name": "stdout",
     "output_type": "stream",
     "text": [
      "[[[  0   0   0]\n",
      "  [255   0   0]\n",
      "  [  0 255   0]\n",
      "  [  0   0   0]]\n",
      "\n",
      " [[  0   0   0]\n",
      "  [  0   0 255]\n",
      "  [255 255 255]\n",
      "  [  0   0   0]]]\n"
     ]
    }
   ],
   "source": [
    "print (palette[image])\n",
    "#>\n",
    "#[[[  0   0   0]\n",
    "#  [255   0   0]\n",
    "#  [  0 255   0]\n",
    "#  [  0   0   0]]\n",
    "#\n",
    "# [[  0   0   0]\n",
    "#  [  0   0 255]\n",
    "#  [255 255 255]\n",
    "#  [  0   0   0]]]"
   ]
  },
  {
   "cell_type": "code",
   "execution_count": 31,
   "metadata": {},
   "outputs": [
    {
     "name": "stdout",
     "output_type": "stream",
     "text": [
      "[[ 0.33333333 -0.33333333]\n",
      " [ 0.22222222  0.11111111]]\n"
     ]
    }
   ],
   "source": [
    "A = n.matrix('1.0 3.0; -2.0 3.0')\n",
    "\n",
    "#inverse; compare result with SymPy above\n",
    "print (A.I)\n",
    "#>\n",
    "#[[ 0.33333333 -0.33333333]\n",
    "# [ 0.22222222  0.11111111]]"
   ]
  },
  {
   "cell_type": "code",
   "execution_count": 63,
   "metadata": {
    "collapsed": true
   },
   "outputs": [],
   "source": [
    "###\n",
    "# Polynomials\n",
    "poly1 = n.poly1d([3,4,5])\n",
    "poly2 = n.poly1d([1,2,3])"
   ]
  },
  {
   "cell_type": "code",
   "execution_count": 64,
   "metadata": {},
   "outputs": [
    {
     "name": "stdout",
     "output_type": "stream",
     "text": [
      "   2\n",
      "3 x + 4 x + 5\n",
      "   4      3      2\n",
      "3 x + 10 x + 22 x + 22 x + 15\n"
     ]
    }
   ],
   "source": [
    "print (poly1)\n",
    "#>     2\n",
    "#   3 x + 4 x + 5\n",
    "\n",
    "print (poly1 * poly2)\n",
    "#>     4      3      2\n",
    "#   3 x + 10 x + 22 x + 22 x + 15"
   ]
  },
  {
   "cell_type": "code",
   "execution_count": 65,
   "metadata": {
    "collapsed": true
   },
   "outputs": [],
   "source": [
    "#*******************************************************************\n",
    "# SciPy http://www.scipy.org\n",
    "# Note: builds on NumPy; see URL for complete functionality\n",
    "\n",
    "##\n",
    "# Interpolation\n",
    "from scipy.interpolate import *\n",
    "import matplotlib.pyplot as plt"
   ]
  },
  {
   "cell_type": "code",
   "execution_count": 66,
   "metadata": {
    "collapsed": true
   },
   "outputs": [],
   "source": [
    "x = n.linspace(0, 10, 10)\n",
    "#[  0.           1.11111111   2.22222222   3.33333333   4.44444444\n",
    "#   5.55555556   6.66666667   7.77777778   8.88888889  10.      ]"
   ]
  },
  {
   "cell_type": "code",
   "execution_count": 67,
   "metadata": {},
   "outputs": [
    {
     "name": "stdout",
     "output_type": "stream",
     "text": [
      "[ 1.          0.98811613  0.81545357  0.18090587 -0.78229363 -0.7541536\n",
      "  0.74675295  0.28811065 -0.89967788  0.99779828]\n"
     ]
    }
   ],
   "source": [
    "y = n.cos(-x**2/8.0)\n",
    "print (y)\n",
    "#[ 1.          0.98811613  0.81545357  0.18090587 -0.78229363 -0.7541536\n",
    "#  0.74675295  0.28811065 -0.89967788  0.99779828]"
   ]
  },
  {
   "cell_type": "code",
   "execution_count": 68,
   "metadata": {},
   "outputs": [
    {
     "data": {
      "image/png": "[encoded data removed]",
      "text/plain": [
       "<matplotlib.figure.Figure at 0x10bd24eb8>"
      ]
     },
     "metadata": {},
     "output_type": "display_data"
    }
   ],
   "source": [
    "#calls to interp1d return a function that can be applied to \n",
    "#data that is to be interpolated\n",
    "f1 = interp1d(x, y, kind='linear')\n",
    "f2 = interp1d(x, y, kind='cubic')\n",
    "\n",
    "#generate some new values and interpolate\n",
    "xnew = n.arange(0,9, 0.1)\n",
    "ynew1 = f1(xnew)\n",
    "ynew2 = f2(xnew)\n",
    "\n",
    "plt.plot(x, y, 'o', xnew, ynew1, xnew,ynew2, '-')\n",
    "plt.show()"
   ]
  },
  {
   "cell_type": "code",
   "execution_count": 69,
   "metadata": {},
   "outputs": [
    {
     "name": "stdout",
     "output_type": "stream",
     "text": [
      "[ 4.5       +0.j          2.08155948-1.65109876j -1.83155948+1.60822041j\n",
      " -1.83155948-1.60822041j  2.08155948+1.65109876j]\n",
      "[ 1. +0.j  2. +0.j  1. +0.j -1. +0.j  1.5+0.j]\n"
     ]
    }
   ],
   "source": [
    "##\n",
    "# FFT\n",
    "from scipy.fftpack import fft, ifft\n",
    "x = n.array([1.0, 2.0, 1.0, -1.0, 1.5])\n",
    "y = fft(x)\n",
    "print (y)\n",
    "#[ 4.50000000+0.j          2.08155948-1.65109876j -1.83155948+1.60822041j\n",
    "# -1.83155948-1.60822041j  2.08155948+1.65109876j]\n",
    "\n",
    "yinv = ifft(y)\n",
    "print (yinv)\n",
    "#[ 1.0+0.j  2.0+0.j  1.0+0.j -1.0+0.j  1.5+0.j]"
   ]
  },
  {
   "cell_type": "code",
   "execution_count": 39,
   "metadata": {},
   "outputs": [
    {
     "name": "stdout",
     "output_type": "stream",
     "text": [
      "[0. 1. 2. 3. 0. 0. 0.]\n"
     ]
    }
   ],
   "source": [
    "##\n",
    "# Convolution\n",
    "from scipy.signal import *\n",
    "\n",
    "x = n.array([1.0, 2.0, 3.0])\n",
    "h = n.array([0.0, 1.0, 0.0, 0.0, 0.0])\n",
    "print (convolve(x, h))\n",
    "#> [ 0.  1.  2.  3.  0.  0.  0.]"
   ]
  },
  {
   "cell_type": "code",
   "execution_count": 40,
   "metadata": {
    "collapsed": true
   },
   "outputs": [],
   "source": [
    "#*******************************************************************\n",
    "# Uncertainties https://pythonhosted.org/uncertainties/\n",
    "# to install the 'uncertainties' package, type \n",
    "# in shell: pip install uncertainties\n",
    "\n",
    "#from uncertainties import ufloat\n",
    "#import uncertainties.umath as um   # sin(), etc.\n",
    "#x = ufloat(1, 0.1)                 # x = 1+/-0.1\n",
    "#print 2*x                          #> 2.00+/-0.20\n",
    "#print um.sin(2*x)                  #> 0.91+/-0.08"
   ]
  },
  {
   "cell_type": "code",
   "execution_count": null,
   "metadata": {
    "collapsed": true
   },
   "outputs": [],
   "source": []
  }
 ],
 "metadata": {
  "kernelspec": {
   "display_name": "Python 3",
   "language": "python",
   "name": "python3"
  },
  "language_info": {
   "codemirror_mode": {
    "name": "ipython",
    "version": 3
   },
   "file_extension": ".py",
   "mimetype": "text/x-python",
   "name": "python",
   "nbconvert_exporter": "python",
   "pygments_lexer": "ipython3",
   "version": "3.6.2"
  }
 },
 "nbformat": 4,
 "nbformat_minor": 2
}
