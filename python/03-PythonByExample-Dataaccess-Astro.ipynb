{
 "cells": [
  {
   "cell_type": "markdown",
   "metadata": {},
   "source": [
    "## Python - A Crash Course By Example\n",
    "## Data Access Examples: Astronomical Data & Catalogs\n",
    "Dr. Victor Pankratius<br>\n",
    "Massachusetts Institute of Technology<br>\n",
    "http://www.victorpankratius.com\n",
    "\n",
    "<hr>\n",
    "\n",
    "For list of available catalogs, see https://astroquery.readthedocs.org/en/latest/\n",
    "\n",
    "<hr>"
   ]
  },
  {
   "cell_type": "markdown",
   "metadata": {},
   "source": [
    "## Open Expolanet Catalogue (OEC)\n",
    "\n",
    "Examples:\n",
    "http://astroquery.readthedocs.org/en/latest/open_exoplanet_catalogue/open_exoplanet_catalogue.html\n",
    "\n",
    "XML Data Structure Specification\n",
    "- OEC paper: https://raw.github.com/hannorein/open_exoplanet_catalogue/master/oec_paper.pdf\n",
    "- OEC: https://github.com/OpenExoplanetCatalogue/open_exoplanet_catalogue\n",
    "- XML Reference: http://www.w3.org/XML/\n",
    "- XML XPath query language: https://en.wikipedia.org/wiki/XPath\n",
    "\n",
    "Example plotting\n",
    "https://github.com/OpenExoplanetCatalogue/oec_plots\n",
    "\n",
    "All data in CSV format:\n",
    "https://raw.githubusercontent.com/OpenExoplanetCatalogue/oec_tables/master/comma_separated/open_exoplanet_catalogue.txt\n",
    "\n",
    "\n",
    "Example Entry: \n",
    "\n",
    "$$\\begin{verbatim}\n",
    "<name>CoRoT-5</name>\n",
    "<rightascension>06 45 07</rightascension> 3 <declination>+00 48 55</declination>\n",
    "<distance>400</distance>\n",
    "<star>\n",
    "        <mass>1.03</mass>\n",
    "        <radius>1.186</radius>\n",
    "        <temperature />\n",
    "        <planet>\n",
    "                 <name>CoRoT-5 b</name>\n",
    "                 <list>Confirmed planets</list> 12 <mass>0.467</mass>\n",
    "                 <radius>1.388</radius>\n",
    "                 <period>4.0378962</period>\n",
    "                 <semimajoraxis>0.0494</semimajoraxis>\n",
    "                 <eccentricity>0.09</eccentricity>\n",
    "                 <inclination>85.83</inclination>\n",
    "                 <description>CoRoT-5 b orbits an F-type star in the constellation Monoceros. </description>\n",
    "                 <discoverymethod>transit </discoverymethod>\n",
    "                 <lastupdate>09/07/18</lastupdate>\n",
    "                 <discoveryyear>2008</discoveryyear>\n",
    "         </planet>\n",
    "</star>\n",
    "\\end{verbatim}$$"
   ]
  },
  {
   "cell_type": "code",
   "execution_count": 2,
   "metadata": {},
   "outputs": [
    {
     "name": "stdout",
     "output_type": "stream",
     "text": [
      "[[('11 Com b', 19.4 +/-1.5), ('11 UMi b', 11.2 +/-0.245), ('14 And b', 4.8)]]\n"
     ]
    }
   ],
   "source": [
    "from astroquery import open_exoplanet_catalogue as oec\n",
    "from astroquery.open_exoplanet_catalogue import findvalue as findv\n",
    "#might need to install: \"conda install -c astropy astroquery --name python35conda\" \n",
    "#where \"python35conda\" is your anaconda environment\n",
    "\n",
    "cat = oec.get_catalogue()\n",
    "\n",
    "#all planets and their masses; print first 3\n",
    "print ( [ [(findv(planet, 'name'), findv(planet, 'mass')) \n",
    "        for planet in cat.findall(\".//planet\")] [0:3] ] \n",
    "      )\n",
    "#> [[('11 Com b', 19.4), ('11 UMi b', 10.5), ('14 And b', 4.8)]]"
   ]
  },
  {
   "cell_type": "code",
   "execution_count": 3,
   "metadata": {},
   "outputs": [
    {
     "name": "stdout",
     "output_type": "stream",
     "text": [
      "[[('1RXS1609 b', 1.7), ('2M 0746+20 b', 0.97), ('2M 2140+16 b', 0.92)]]\n"
     ]
    }
   ],
   "source": [
    "#all planets with radius; print list of first 3\n",
    "print ( [ \n",
    "        [ (findv(planet, 'name'), findv(planet, 'radius')) \n",
    "          for planet in cat.findall(\".//planet[radius]\")  \n",
    "          ] [0:3] \n",
    "        ]\n",
    "       )\n",
    "#> [[('1RXS1609 b', 1.7), ('2M 2206-20 b', 1.3), ('AB Pic b', 1.55<1.6)]]"
   ]
  },
  {
   "cell_type": "code",
   "execution_count": 5,
   "metadata": {},
   "outputs": [
    {
     "name": "stdout",
     "output_type": "stream",
     "text": [
      "[[('11 Com', 1), ('11 UMi', 1), ('14 And', 1)]]\n"
     ]
    }
   ],
   "source": [
    "#all stars with number of orbiting planets; print list of first 3\n",
    "print (\n",
    "        [ [(findv( star, 'name'), len(star.findall(\".//planet\")))\n",
    "       for star in cat.findall(\".//star[planet]\")] [0:3] ]\n",
    "      )\n",
    "#> [[('11 Com', 1), ('11 UMi', 1), ('14 And', 1)]]"
   ]
  },
  {
   "cell_type": "code",
   "execution_count": 8,
   "metadata": {},
   "outputs": [
    {
     "name": "stdout",
     "output_type": "stream",
     "text": [
      "[[('2M 1938+4603 b', 416.0 +/-2.0), ('2MASS J02495639-0557352 c', None), ('DP Leo b', 10230.0)]]\n"
     ]
    }
   ],
   "source": [
    "#planets and their periods around binaries; print list of first 3\n",
    "print ( [ [(findv( planet, 'name'), findv( planet, 'period'))\n",
    "          for planet in cat.findall(\".//binary/planet\")] [0:3] \n",
    "        ]\n",
    "       )\n",
    "#> [[('XO-5 b', 4.1877537), ('XO-5 b', 4.1877537), ('XO-5 b', 4.1877537)]]"
   ]
  },
  {
   "cell_type": "code",
   "execution_count": 9,
   "metadata": {},
   "outputs": [],
   "source": [
    "outputX = []\n",
    "outputY = []\n",
    "outputAll =[]\n",
    "\n",
    "planets = cat.findall(\".//planet\")\n",
    "for planet in planets:\n",
    "    try:\n",
    "        mass = float(planet.findtext(\"./mass\"))\n",
    "        semimajoraxis = float(planet.findtext(\"./semimajoraxis\"))\n",
    "        discoverymethod = planet.findtext(\"./discoverymethod\")\n",
    "        outputAll.append([mass, semimajoraxis, discoverymethod])\n",
    "        outputX.append(mass)\n",
    "        outputY.append(semimajoraxis)\n",
    "    except:\n",
    "        # Most likely cause for an exception: Mass or semi-major axis not specified for this planet.\n",
    "        # One could do a more complicated check here and see if the period and the mass of the host star is given and then calculate the semi-major axis \n",
    "        pass"
   ]
  },
  {
   "cell_type": "code",
   "execution_count": 10,
   "metadata": {},
   "outputs": [
    {
     "name": "stdout",
     "output_type": "stream",
     "text": [
      "1245\n"
     ]
    }
   ],
   "source": [
    "print(len(outputY))"
   ]
  },
  {
   "cell_type": "markdown",
   "metadata": {},
   "source": [
    "<hr>\n",
    "## Sloan Digital Sky Survey (SDSS)"
   ]
  },
  {
   "cell_type": "code",
   "execution_count": 25,
   "metadata": {},
   "outputs": [
    {
     "name": "stderr",
     "output_type": "stream",
     "text": [
      "/anaconda/lib/python3.6/site-packages/astroquery/sdss/__init__.py:29: UserWarning: Experimental: SDSS has not yet been refactored to have its API match the rest of astroquery (but it's nearly there).\n",
      "  warnings.warn(\"Experimental: SDSS has not yet been refactored to have its API \"\n"
     ]
    },
    {
     "name": "stdout",
     "output_type": "stream",
     "text": [
      "       ra              dec               objid        ... run2d instrument\n",
      "---------------- ---------------- ------------------- ... ----- ----------\n",
      "2.02344596303101 14.8398237521302 1237652943176138868 ...    26       SDSS\n"
     ]
    }
   ],
   "source": [
    "from astroquery.sdss import SDSS\n",
    "from astropy import coordinates as coords\n",
    "import warnings\n",
    "warnings.filterwarnings('ignore')\n",
    "\n",
    "pos = coords.SkyCoord('0h8m05.63s +14d50m23.3s', frame='icrs')\n",
    "xid = SDSS.query_region(pos, spectro=True)\n",
    "print (xid)"
   ]
  },
  {
   "cell_type": "code",
   "execution_count": 26,
   "metadata": {},
   "outputs": [
    {
     "name": "stdout",
     "output_type": "stream",
     "text": [
      "Downloading http://data.sdss3.org/sas/dr12/sdss/spectro/redux/26/spectra/0751/spec-0751-52251-0160.fits [Done]\n",
      "Downloading http://data.sdss3.org/sas/dr12/boss/photoObj/frames/301/1739/3/frame-g-001739-3-0315.fits.bz2 [Done]\n"
     ]
    }
   ],
   "source": [
    "#download FITS files\n",
    "sp = SDSS.get_spectra(matches=xid)\n",
    "im = SDSS.get_images(matches=xid, band='g')"
   ]
  },
  {
   "cell_type": "markdown",
   "metadata": {},
   "source": [
    "<hr>\n",
    "## SIMBAD Astronomical Database\n",
    "(the Set of Identifications, Measurements, and \n",
    "Bibliography for Astronomical Data)"
   ]
  },
  {
   "cell_type": "code",
   "execution_count": 27,
   "metadata": {},
   "outputs": [
    {
     "name": "stdout",
     "output_type": "stream",
     "text": [
      "MAIN_ID       RA           DEC      ... COO_WAVELENGTH     COO_BIBCODE    \n",
      "           \"h:m:s\"       \"d:m:s\"    ...                                   \n",
      "------- ------------- ------------- ... -------------- -------------------\n",
      "  M  81 09 55 33.1730 +69 03 55.061 ...              R 2004AJ....127.3587F\n"
     ]
    }
   ],
   "source": [
    "from astroquery.simbad import Simbad\n",
    "#if not locally available, run \"pip intall astroquery\" in a terminal\n",
    "\n",
    "q = Simbad.query_object('m81')\n",
    "print (q)\n",
    "\n",
    "#>\n",
    "#MAIN_ID       RA           DEC      ... COO_WAVELENGTH     COO_BIBCODE    \n",
    "#           \"h:m:s\"       \"d:m:s\"    ...                                   \n",
    "#------- ------------- ------------- ... -------------- -------------------\n",
    "#  M  81 09 55 33.1730 +69 03 55.061 ...              R 2004AJ....127.3587F"
   ]
  },
  {
   "cell_type": "markdown",
   "metadata": {},
   "source": [
    "<hr>\n",
    "## Splatalogue  - Database for Astronomical Spectroscopy\n",
    "http://www.cv.nrao.edu/php/splat/\n",
    "\n",
    "returns tables of spectral lines with specified features\n",
    "\n",
    "More examples here: https://astroquery.readthedocs.org/en/latest/splatalogue/splatalogue.html"
   ]
  },
  {
   "cell_type": "code",
   "execution_count": 28,
   "metadata": {
    "collapsed": true
   },
   "outputs": [],
   "source": [
    "from astroquery.splatalogue import Splatalogue\n",
    "line_ids = Splatalogue.get_species_ids()\n",
    "#returns complete Splatalogue chemical species list, including all isotopologues"
   ]
  },
  {
   "cell_type": "code",
   "execution_count": 29,
   "metadata": {},
   "outputs": [
    {
     "name": "stdout",
     "output_type": "stream",
     "text": [
      "104\n"
     ]
    }
   ],
   "source": [
    "CO_containing_species = Splatalogue.get_species_ids('CO')\n",
    "print (len(CO_containing_species))\n",
    "#> 91"
   ]
  },
  {
   "cell_type": "code",
   "execution_count": 30,
   "metadata": {},
   "outputs": [
    {
     "name": "stdout",
     "output_type": "stream",
     "text": [
      "4\n"
     ]
    }
   ],
   "source": [
    "just_CO = Splatalogue.get_species_ids(' CO ') # note the spaces\n",
    "print (len(just_CO))\n",
    "#> 4\n"
   ]
  },
  {
   "cell_type": "code",
   "execution_count": 31,
   "metadata": {},
   "outputs": [
    {
     "name": "stdout",
     "output_type": "stream",
     "text": [
      "{'02813 CO v = 1 - Carbon Monoxide': '990', '02812 CO v = 0 - Carbon Monoxide': '204', '02815 CO v = 3 - Carbon Monoxide': '1343', '02814 CO v = 2 - Carbon Monoxide': '991'}\n"
     ]
    }
   ],
   "source": [
    "print (just_CO)\n",
    "#> {u'02813 CO v = 1 - Carbon Monoxide': u'990', \n",
    "#   u'02815 CO v = 3 - Carbon Monoxide': u'1343', \n",
    "#   u'02814 CO v = 2 - Carbon Monoxide': u'991', \n",
    "#   u'02812 CO v = 0 - Carbon Monoxide': u'204'}"
   ]
  },
  {
   "cell_type": "markdown",
   "metadata": {},
   "source": [
    "<hr>\n",
    "## Skyview  - several surveys\n",
    "https://astroquery.readthedocs.org/en/latest/skyview/skyview.html"
   ]
  },
  {
   "cell_type": "code",
   "execution_count": 32,
   "metadata": {},
   "outputs": [
    {
     "name": "stdout",
     "output_type": "stream",
     "text": [
      "['https://skyview.gsfc.nasa.gov/tempspace/fits/skv351279893602_1.fits', 'https://skyview.gsfc.nasa.gov/tempspace/fits/skv351279893602_2.fits', 'https://skyview.gsfc.nasa.gov/tempspace/fits/skv351279893602_3.fits']\n"
     ]
    }
   ],
   "source": [
    "from astroquery.skyview import SkyView\n",
    "print ( SkyView.get_image_list(position='Eta Carinae',survey=['Fermi 5', 'HRI', 'DSS']) )\n",
    "\n",
    "#> [u'http://skyview.gsfc.nasa.gov/tempspace/fits/skv709734765014_1.fits', \n",
    "#   u'http://skyview.gsfc.nasa.gov/tempspace/fits/skv709734765014_2.fits', \n",
    "#   u'http://skyview.gsfc.nasa.gov/tempspace/fits/skv709734765014_3.fits']"
   ]
  },
  {
   "cell_type": "code",
   "execution_count": 33,
   "metadata": {
    "collapsed": true
   },
   "outputs": [],
   "source": [
    "#to download images\n",
    "#paths = SkyView.get_images(position='Eta Carinae', survey=['Fermi 5', 'HRI', 'DSS'])\n"
   ]
  },
  {
   "cell_type": "markdown",
   "metadata": {},
   "source": [
    "<hr>\n",
    "## Virtual Observatory Client\n",
    "http://pyvo.readthedocs.org/en/latest/pyvo/data_access.html"
   ]
  },
  {
   "cell_type": "code",
   "execution_count": 34,
   "metadata": {},
   "outputs": [
    {
     "name": "stdout",
     "output_type": "stream",
     "text": [
      "Downloading http://stsdas.stsci.edu/astrolib/vo_databases/conesearch_good.json [Done]\n",
      "['Guide Star Catalog 2.3 Cone Search 1', 'SDSS DR7 - Sloan Digital Sky Survey Data Release 7 1', 'SDSS DR7 - Sloan Digital Sky Survey Data Release 7 2', 'SDSS DR7 - Sloan Digital Sky Survey Data Release 7 3', 'SDSS DR7 - Sloan Digital Sky Survey Data Release 7 4', 'SDSS DR8 - Sloan Digital Sky Survey Data Release 8 1', 'SDSS DR8 - Sloan Digital Sky Survey Data Release 8 2', 'The HST Guide Star Catalog, Version 1.1 (Lasker+ 1992) 1', 'The HST Guide Star Catalog, Version 1.2 (Lasker+ 1996) 1', 'The HST Guide Star Catalog, Version GSC-ACT (Lasker+ 1996-99) 1', 'The USNO-A2.0 Catalogue (Monet+ 1998) 1', 'Two Micron All Sky Survey (2MASS) 1', 'Two Micron All Sky Survey (2MASS) 2']\n"
     ]
    }
   ],
   "source": [
    "#++++++++++++++++++++++++++++++++++++++++++++++\n",
    "# Cone Search\n",
    "#++++++++++++++++++++++++++++++++++++++++++++++\n",
    "#http://docs.astropy.org/en/stable/vo/conesearch/client.html?highlight=vao\n",
    "#Astropy offers Simple Cone Search Version 1.03 as defined in IVOA \n",
    "#Recommendation (February 22, 2008). Cone Search queries an area encompassed \n",
    "#by a given radius centered on a given RA and DEC and returns all the objects \n",
    "#found within the area in the given catalog.\n",
    "\n",
    "#sorted list of Cone Search services\n",
    "from astropy.vo.client import conesearch\n",
    "print (conesearch.list_catalogs())\n",
    "\n",
    "#> Downloading http://stsdas.stsci.edu/astrolib/vo_databases/conesearch_good.json [Done]\n",
    "# [u'2MASS All-Sky Point Source Catalog 1', \n",
    "# u'Guide Star Catalog v2 1', ... "
   ]
  },
  {
   "cell_type": "code",
   "execution_count": 35,
   "metadata": {},
   "outputs": [
    {
     "name": "stdout",
     "output_type": "stream",
     "text": [
      "10d41m04.9499s 41d16m07.5s\n"
     ]
    }
   ],
   "source": [
    "my_catname ='Two Micron All Sky Survey (2MASS) 1'\n",
    "\n",
    "from astropy.coordinates import SkyCoord\n",
    "from astropy import units as u\n",
    "c = SkyCoord.from_name('M31')\n",
    "print  (c.ra, c.dec)\n",
    "#> 10d41m04.95s 41d16m07.5s"
   ]
  },
  {
   "cell_type": "code",
   "execution_count": 36,
   "metadata": {},
   "outputs": [
    {
     "name": "stdout",
     "output_type": "stream",
     "text": [
      "Trying http://gsss.stsci.edu/webservices/vo/ConeSearch.aspx?CAT=GSC23&\n",
      "Downloading http://gsss.stsci.edu/webservices/vo/ConeSearch.aspx?CAT=GSC23&RA=10.6847083&DEC=41.26875&SR=0.1&VERB=1 [Done]\n",
      "4028\n"
     ]
    }
   ],
   "source": [
    "#query catalog around M31 with 0.1-degree radius\n",
    "result = conesearch.conesearch(c, 0.1 * u.degree, catalog_db='http://gsss.stsci.edu/webservices/vo/ConeSearch.aspx?CAT=GSC23&')\n",
    "\n",
    "#number of search matches\n",
    "print (result.array.size)\n",
    "#> 2008"
   ]
  },
  {
   "cell_type": "code",
   "execution_count": 37,
   "metadata": {},
   "outputs": [
    {
     "name": "stdout",
     "output_type": "stream",
     "text": [
      "('objID', 'gsc2ID', 'gsc1ID', 'hstID', 'ra', 'dec', 'epoch', 'raEpsilon', 'decEpsilon', 'rapm', 'decpm', 'rapmErr', 'decpmErr', 'deltaEpoch', 'FpgMag', 'FpgMagErr', 'FpgMagCode', 'JpgMag', 'JpgMagErr', 'JpgMagCode', 'NpgMag', 'NpgMagErr', 'NpgMagCode', 'UMag', 'UMagErr', 'UMagCode', 'BMag', 'BMagErr', 'BMagCode', 'VMag', 'VMagErr', 'VMagCode', 'RMag', 'RMagErr', 'RMagCode', 'IMag', 'IMagErr', 'IMagCode', 'JMag', 'JMagErr', 'JMagCode', 'HMag', 'HMagErr', 'HMagCode', 'KMag', 'KMagErr', 'KMagCode', 'class', 'semiMajorAxis', 'eccentricity', 'positionAngle', 'sourceStatus', 'variableFlag', 'multipleFlag', 'compassGSC2id', 'Mag')\n"
     ]
    }
   ],
   "source": [
    "#column names\n",
    "print (result.array.dtype.names)"
   ]
  },
  {
   "cell_type": "code",
   "execution_count": 38,
   "metadata": {},
   "outputs": [
    {
     "name": "stdout",
     "output_type": "stream",
     "text": [
      "[10.684737 10.683469 10.685657 ... 10.5837535858154 10.5586099624634\n",
      " 10.8177289962769]\n"
     ]
    }
   ],
   "source": [
    "#RA of matches\n",
    "print (result.array['ra'])"
   ]
  },
  {
   "cell_type": "code",
   "execution_count": 39,
   "metadata": {},
   "outputs": [
    {
     "name": "stdout",
     "output_type": "stream",
     "text": [
      "[41.269035 41.268585 41.26955 ... 41.3338661193848 41.3006172180176\n",
      " 41.269157409668]\n"
     ]
    }
   ],
   "source": [
    "#DEC of matches\n",
    "print (result.array['dec'])"
   ]
  }
 ],
 "metadata": {
  "kernelspec": {
   "display_name": "Python 3",
   "language": "python",
   "name": "python3"
  },
  "language_info": {
   "codemirror_mode": {
    "name": "ipython",
    "version": 3
   },
   "file_extension": ".py",
   "mimetype": "text/x-python",
   "name": "python",
   "nbconvert_exporter": "python",
   "pygments_lexer": "ipython3",
   "version": "3.6.2"
  }
 },
 "nbformat": 4,
 "nbformat_minor": 1
}
