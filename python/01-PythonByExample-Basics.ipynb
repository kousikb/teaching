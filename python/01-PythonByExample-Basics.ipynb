{
 "cells": [
  {
   "cell_type": "markdown",
   "metadata": {},
   "source": [
    "## Python - A Crash Course By Example\n",
    "## Basics\n",
    "Dr. Victor Pankratius<br>\n",
    "Massachusetts Institute of Technology<br>\n",
    "http://www.victorpankratius.com\n",
    "\n",
    "<hr>"
   ]
  },
  {
   "cell_type": "markdown",
   "metadata": {},
   "source": [
    "The Python core language is simple. Higher-level features \n",
    "are implemented in libraries.\n",
    "\n",
    "All Python keywords:\n",
    "\n",
    "<table style=\"width:50%\">\n",
    "  <tr>\n",
    "    <td>and</td>\n",
    "    <td>as</td> \n",
    "    <td>assert</td>\n",
    "    <td>break</td>\n",
    "  </tr>\n",
    "  <tr>\n",
    "    <td>class</td>\n",
    "    <td>continue</td> \n",
    "    <td>def</td>\n",
    "    <td>del</td>\n",
    "  </tr>\n",
    "  <tr>\n",
    "    <td>elif</td>\n",
    "    <td>else</td> \n",
    "    <td>except</td>\n",
    "    <td>finally</td>\n",
    "  </tr>\n",
    "  <tr>\n",
    "    <td>for</td>\n",
    "    <td>from</td> \n",
    "    <td>global</td>\n",
    "    <td>if</td>\n",
    "  </tr>\n",
    "  <tr>\n",
    "    <td>import</td>\n",
    "    <td>in</td> \n",
    "    <td>is</td>\n",
    "    <td>lambda</td>\n",
    "  </tr>\n",
    "  <tr>\n",
    "    <td>print</td>\n",
    "    <td>raise</td> \n",
    "    <td>return</td>\n",
    "    <td>try</td>\n",
    "  </tr>\n",
    "</table>\n",
    "\n",
    "Python 3.7.1\n",
    "- Full grammar specification: https://docs.python.org/3/reference/grammar.html\n",
    "- Language reference: https://docs.python.org/3/reference/index.html\n",
    "\n",
    "\n",
    "I'll use \"#>\" in comments to denote Python interpreter output "
   ]
  },
  {
   "cell_type": "markdown",
   "metadata": {},
   "source": [
    "<hr>\n",
    "## Literature\n",
    "\n",
    "Examples are from the Phython language reference, libraries, and this book:<br>\n",
    "A Primer on Scientific Programming with Python, Author: Hans Petter Langtangen, ISBN: 978-3-662-49886-6 (Print) 978-3-662-49887-3 (Online)\n",
    "http://link.springer.com/book/10.1007/978-3-662-49887-3\n",
    "(PDF accessible within the MIT network or VPN):\n",
    "<hr>"
   ]
  },
  {
   "cell_type": "code",
   "execution_count": 1,
   "metadata": {
    "scrolled": true
   },
   "outputs": [
    {
     "data": {
      "image/jpeg": "[encoded data removed]",
      "text/html": [
       "\n",
       "        <iframe\n",
       "            width=\"400\"\n",
       "            height=\"300\"\n",
       "            src=\"https://www.youtube.com/embed/YgtL4S7Hrwo\"\n",
       "            frameborder=\"0\"\n",
       "            allowfullscreen\n",
       "        ></iframe>\n",
       "        "
      ],
      "text/plain": [
       "<IPython.lib.display.YouTubeVideo at 0x10bf65588>"
      ]
     },
     "execution_count": 1,
     "metadata": {},
     "output_type": "execute_result"
    }
   ],
   "source": [
    "## Keynote: Guido van Rossum on the Python language. PyCon 2016\n",
    "from IPython.display import YouTubeVideo\n",
    "YouTubeVideo('YgtL4S7Hrwo')"
   ]
  },
  {
   "cell_type": "markdown",
   "metadata": {},
   "source": [
    "<hr>\n",
    "## Basics\n",
    "Let's start with formula evaluation examples to illustrate basic language features"
   ]
  },
  {
   "cell_type": "code",
   "execution_count": 2,
   "metadata": {},
   "outputs": [
    {
     "name": "stdout",
     "output_type": "stream",
     "text": [
      "21.62\n"
     ]
    }
   ],
   "source": [
    "v0 = 1\n",
    "g = 9.81\n",
    "t = 2\n",
    "y = v0*t + 0.5*g*t**2\n",
    "print(y)  #> 21.62"
   ]
  },
  {
   "cell_type": "code",
   "execution_count": 3,
   "metadata": {
    "collapsed": true
   },
   "outputs": [],
   "source": [
    "#define above as a function\n",
    "def f1(v0, g, t):\n",
    "    \"\"\"a built-in comment - what does this function do?\"\"\"\n",
    "    return v0*t + 0.5*g*t**2"
   ]
  },
  {
   "cell_type": "code",
   "execution_count": 4,
   "metadata": {},
   "outputs": [
    {
     "name": "stdout",
     "output_type": "stream",
     "text": [
      "21.82\n",
      "a built-in comment - what does this function do?\n"
     ]
    }
   ],
   "source": [
    "print ( f1(1, 9.91, 2) )   #> 21.62\n",
    "print ( f1.__doc__ )       #> a built-in comment - what does this function do?"
   ]
  },
  {
   "cell_type": "markdown",
   "metadata": {},
   "source": [
    "Note: indent defines block structure; number of indent characters work like a \"stack\"\n",
    "\n",
    "Otherwise expect: \n",
    " - IndentationError: unexpected indent\n",
    " - IndentationError: unindent does not match any outer indentation level"
   ]
  },
  {
   "cell_type": "markdown",
   "metadata": {},
   "source": [
    "<hr>\n",
    "## Lambda functions, decorators, higher-order functions"
   ]
  },
  {
   "cell_type": "code",
   "execution_count": 5,
   "metadata": {},
   "outputs": [
    {
     "name": "stdout",
     "output_type": "stream",
     "text": [
      "21.62\n"
     ]
    }
   ],
   "source": [
    "#***************************\n",
    "#LAMBDA FUNCTIONS are anonymous, i.e., not bound to a name\n",
    "f2 = lambda v0, g, t: v0*t + 0.5*g*t**2\n",
    "\n",
    "print ( f2(1, 9.81, 2) )"
   ]
  },
  {
   "cell_type": "code",
   "execution_count": 6,
   "metadata": {},
   "outputs": [
    {
     "name": "stdout",
     "output_type": "stream",
     "text": [
      "21.62\n"
     ]
    }
   ],
   "source": [
    "#eval parses argument and evaluates it as a Python expression using global and local namespace\n",
    "print ( eval('v0*t+ 0.5*g*t**2') )"
   ]
  },
  {
   "cell_type": "code",
   "execution_count": 7,
   "metadata": {},
   "outputs": [
    {
     "name": "stdout",
     "output_type": "stream",
     "text": [
      "12.0\n",
      "21.62\n",
      "19.62\n"
     ]
    }
   ],
   "source": [
    "#***************************\n",
    "#--\"Higher Order Functions\" -> note: different meaning in programming language lingo\n",
    "#  Creating and passing a function to another function\n",
    "\n",
    "def myCalc(a,b,c, myfunc):\n",
    "    return myfunc(a,b,c)\n",
    "    \n",
    "def f3(v0, g, t):\n",
    "    return 0.5*g*t**2  \n",
    "    \n",
    "print ( myCalc(1,2,3,lambda v0, g, t: v0*t + 0.5*g*t**2) ) #you can inline lambdas, too!\n",
    "    \n",
    "print ( myCalc(1,9.81,2, f1) )      #> 21.62\n",
    "print ( myCalc(1,9.81,2, f3) )     #> 19.62"
   ]
  },
  {
   "cell_type": "code",
   "execution_count": 8,
   "metadata": {},
   "outputs": [
    {
     "name": "stdout",
     "output_type": "stream",
     "text": [
      "9\n"
     ]
    }
   ],
   "source": [
    "#--composition\n",
    "def composeFunc(f, g):\n",
    "    return lambda x: f(g(x))\n",
    "\n",
    "f = composeFunc(lambda x: x*x,  #f\n",
    "                lambda y: y+1)  #g\n",
    "\n",
    "print ( f(2) )                  #> 9"
   ]
  },
  {
   "cell_type": "code",
   "execution_count": 9,
   "metadata": {},
   "outputs": [
    {
     "name": "stdout",
     "output_type": "stream",
     "text": [
      "Some debugging output. Your code reached this point.\n",
      "4\n"
     ]
    }
   ],
   "source": [
    "#---\n",
    "#--Decorators; idea: \"intercept control flow\", add something before/after, \n",
    "#  e.g., debugging code\n",
    "def f_plain(x):\n",
    "    return x * x\n",
    "\n",
    "def decorator(func):\n",
    "    print (\"Some debugging output. Your code reached this point.\")\n",
    "    return func\n",
    "\n",
    "f_decorated = decorator(f_plain)\n",
    "\n",
    "print ( f_decorated(2) )"
   ]
  },
  {
   "cell_type": "code",
   "execution_count": 10,
   "metadata": {},
   "outputs": [
    {
     "name": "stdout",
     "output_type": "stream",
     "text": [
      "Some debugging output. Your code reached this point.\n",
      "8\n"
     ]
    }
   ],
   "source": [
    "#---other notation for above decorator\n",
    "@decorator\n",
    "def f_plain_decorated(x):\n",
    "    return x ** 3\n",
    "    \n",
    "print ( f_plain_decorated(2) )"
   ]
  },
  {
   "cell_type": "markdown",
   "metadata": {},
   "source": [
    "<hr>\n",
    "## Types, implicit typing"
   ]
  },
  {
   "cell_type": "code",
   "execution_count": 12,
   "metadata": {},
   "outputs": [
    {
     "name": "stdout",
     "output_type": "stream",
     "text": [
      "<class 'int'>\n",
      "<class 'float'>\n",
      "<class 'str'>\n",
      "<class 'list'>\n",
      "<class 'complex'>\n"
     ]
    }
   ],
   "source": [
    "#*******************************************************\n",
    "#--- Types, implicit typing, querying a type\n",
    "#--- Every object has a type and value. Type determines what operations \n",
    "#--- that are allowed on an object, possible values \n",
    "a=1\n",
    "print(type(a))          #> <type 'int'>\n",
    "print(type(1.0))        #> <type 'float'>\n",
    "print(type(\"hello\"))    #> <type 'str'>\n",
    "print(type([]))         #> <type 'list'>\n",
    "print(type(1+2j))       #> <type 'complex'>"
   ]
  },
  {
   "cell_type": "code",
   "execution_count": 14,
   "metadata": {},
   "outputs": [
    {
     "name": "stdout",
     "output_type": "stream",
     "text": [
      "(1+2j)\n"
     ]
    }
   ],
   "source": [
    "#************\n",
    "#--- Python has built-in support for complex numbers -yeay!\n",
    "u=1+2j\n",
    "v=1+0j\n",
    "print(u*v)          #> (1+2j)"
   ]
  },
  {
   "cell_type": "code",
   "execution_count": 15,
   "metadata": {
    "collapsed": true
   },
   "outputs": [],
   "source": [
    "#-Some important types built into Python (cf. language reference manual)\n",
    "#\n",
    "# * numbers.Number: numeric objects. Include\n",
    "#   * integers  plain: -2147483648-- 2147483647; \n",
    "#               long: unlimited range, subject to available memory\n",
    "#   * Booleans: represented by *objects* True and False\n",
    "#   * float:    machine-level double precision floating point numbers. \n",
    "#               Depends on current machine architecture where the script is \n",
    "#               executed (!) Be careful to check for numerical errors...\n",
    "#   * complex:  represented by pair of machine-level double precision \n",
    "#               floating point numbers\n",
    "#\n",
    "# * Sequences:  finite ordered sets indexed by non-negative numbers\n",
    "#    - Immutable sequences\n",
    "#           * String\n",
    "#           * Unicode\n",
    "#           * Tuple\n",
    "#    - Mutable sequences\n",
    "#           *List\n",
    "#           *Byte Array\n",
    "#\n",
    "# * Set types: unordered finite sets of unique, immutable objects\n",
    "#\n",
    "# * Mappings: finite sets of objects indexed by arbitrary index sets. \n",
    "#   * Dictionaries: lists of key-value pairs\n",
    "#\n",
    "# * Callable types: types to which the function call operation can be applied\n",
    "#\t* User-defined functions / methods\n",
    "#\t* Generator functions: function or method which uses the 'yield' statement. \n",
    "#       generator function, when called, always returns an iterator object which \n",
    "#       can be used to execute the body of the function\n",
    "#\t* Built-in functions / methods: wrapper around a C function\n",
    "#\t* Class types / classic classes / class instances\n",
    "#\t\n",
    "# * Modules: imported by the 'import' statement. A module object has a namespace \n",
    "#            implemented by a dictionary object; attribute references are \n",
    "#            translated to lookups in this dictionary,  \n",
    "#            e.g., m.x is equivalent to m.__dict__[\"x\"]\n",
    "#\n",
    "# * Code objects: immutable byte-compiled executable Python code\n",
    "#\n",
    "# * Files\n",
    "#\n",
    "# * Slice objects:  e.g., a[i:j:step],  a[i:j, k:l],  a[..., i:j]"
   ]
  },
  {
   "cell_type": "markdown",
   "metadata": {},
   "source": [
    "<hr>\n",
    "## Simple language - import everything philosophy \n",
    "### Example: Math libraries & functions"
   ]
  },
  {
   "cell_type": "code",
   "execution_count": 16,
   "metadata": {
    "collapsed": true
   },
   "outputs": [],
   "source": [
    "#*******************************************************\n",
    "# --- Math libraries & functions\n",
    "# which function are you using? Different libraries \n",
    "# means different assumptions. Check when in doubt.\n",
    "\n",
    "# print sqrt(2)\n",
    "# > NameError: name 'sqrt' is not defined"
   ]
  },
  {
   "cell_type": "code",
   "execution_count": 17,
   "metadata": {},
   "outputs": [
    {
     "name": "stdout",
     "output_type": "stream",
     "text": [
      "1.4142135623730951\n"
     ]
    }
   ],
   "source": [
    "from math import sqrt\n",
    "print (sqrt(2))   #> 1.41421356237\n",
    "#print sqrt(-1) # >ValueError: math domain error"
   ]
  },
  {
   "cell_type": "code",
   "execution_count": 18,
   "metadata": {},
   "outputs": [
    {
     "name": "stdout",
     "output_type": "stream",
     "text": [
      "(1.4142135623730951+0j)\n",
      "1j\n"
     ]
    }
   ],
   "source": [
    "from cmath import sqrt\n",
    "#overwrites previous function by new one\n",
    "#all complex now\n",
    "print (sqrt(2))   #> (1.41421356237+0j)\n",
    "print (sqrt(-1))  #> 1j"
   ]
  },
  {
   "cell_type": "code",
   "execution_count": 19,
   "metadata": {
    "scrolled": true
   },
   "outputs": [
    {
     "name": "stdout",
     "output_type": "stream",
     "text": [
      "1.4142135623730951\n",
      "nan\n"
     ]
    },
    {
     "name": "stderr",
     "output_type": "stream",
     "text": [
      "/anaconda/lib/python3.6/site-packages/ipykernel_launcher.py:6: RuntimeWarning: invalid value encountered in sqrt\n",
      "  \n"
     ]
    }
   ],
   "source": [
    "from numpy import sqrt\n",
    "#might require \"conda install --name python35conda numpy\" first, where \"python35conda\" is your environemnt\n",
    "#import warnings; warnings.filterwarnings(\"ignore\")\n",
    "\n",
    "print (sqrt(2))   #> 1.41421356237\n",
    "print (sqrt(-1))  #> nan"
   ]
  },
  {
   "cell_type": "code",
   "execution_count": 20,
   "metadata": {},
   "outputs": [
    {
     "name": "stdout",
     "output_type": "stream",
     "text": [
      "1.4142135623730951\n",
      "1j\n"
     ]
    }
   ],
   "source": [
    "from numpy.lib.scimath import sqrt  \n",
    "\n",
    "print (sqrt(2))   #> 1.41421356237\n",
    "print (sqrt(-1))  #> 1j"
   ]
  },
  {
   "cell_type": "markdown",
   "metadata": {},
   "source": [
    "<hr>\n",
    "## Data structures: Lists"
   ]
  },
  {
   "cell_type": "code",
   "execution_count": 21,
   "metadata": {},
   "outputs": [
    {
     "name": "stdout",
     "output_type": "stream",
     "text": [
      "[0, 1, 2, 3, 4, 5, 6]\n",
      "[0, 2, 3, 4, 5]\n",
      "5\n"
     ]
    }
   ],
   "source": [
    "#*******************************************************\n",
    "#--- Lists\n",
    "\n",
    "l=[1,2,3]\n",
    "l.append(4)     #append value\n",
    "l=l+[5,6]       #append list\n",
    "l.insert(0,0)   #insert 0 at position 0\n",
    "print (l)         #> [0, 1, 2, 3, 4, 5, 6]\n",
    "\n",
    "del(l[1])       #del second element; beware: indexing starts at 0\n",
    "                #del has side effect, i.e., updates l\n",
    "del(l[-1])      #del last element\n",
    "print (l)       #> [0, 2, 3, 4, 5]\n",
    "print (len(l))  #> 5"
   ]
  },
  {
   "cell_type": "code",
   "execution_count": 22,
   "metadata": {},
   "outputs": [
    {
     "name": "stdout",
     "output_type": "stream",
     "text": [
      "[3, 4]\n",
      "[2, 3, 4, 5]\n",
      "[0, 2, 3]\n",
      "[2, 3, 4]\n",
      "[0, 3, 5]\n"
     ]
    }
   ],
   "source": [
    "#************\n",
    "# \"slicing\"\n",
    "print (l[2:4])    #> [3, 4]\n",
    "print (l[1:])     #> [2, 3, 4, 5]\n",
    "print (l[:3])     #> [0, 2, 3]\n",
    "print (l[1:-1])   #> [2, 3, 4]\n",
    "print (l[0:5:2])  #> [0, 3, 5]"
   ]
  },
  {
   "cell_type": "markdown",
   "metadata": {},
   "source": [
    "<hr>\n",
    "## Iterators"
   ]
  },
  {
   "cell_type": "code",
   "execution_count": 23,
   "metadata": {},
   "outputs": [
    {
     "name": "stdout",
     "output_type": "stream",
     "text": [
      "<list_iterator object at 0x10d08be48>\n",
      "0\n",
      "2\n"
     ]
    }
   ],
   "source": [
    "#************\n",
    "# iter() takes an arbitrary object and tries to return \n",
    "# an iterator that will return the object's contents or elements\n",
    "# raising TypeError if the object doesn't support iteration\n",
    "it=iter(l)\n",
    "print (it)        #<listiterator object at 0x10a7e2dd0>\n",
    "\n",
    "print (next(it)) #> 0\n",
    "print (next(it)) #> 2"
   ]
  },
  {
   "cell_type": "markdown",
   "metadata": {},
   "source": [
    "<hr>\n",
    "## List comprehension, set comprehension"
   ]
  },
  {
   "cell_type": "code",
   "execution_count": 24,
   "metadata": {},
   "outputs": [
    {
     "name": "stdout",
     "output_type": "stream",
     "text": [
      "{0, 4, 9, 16, 25}\n",
      "[0, 4, 9, 16, 25]\n"
     ]
    }
   ],
   "source": [
    "#************\n",
    "# List comprehension, set comprehension\n",
    "# Do something with each element in the list. \n",
    "# Notation based on notation used by mathematicians\n",
    "print ( {x**2 for x in l} )    #aka { x^2 | x in l }\n",
    "print ( [x**2 for x in l] )    #> [0, 4, 9, 16, 25]"
   ]
  },
  {
   "cell_type": "markdown",
   "metadata": {},
   "source": [
    "<hr>\n",
    "## Map / Reduce"
   ]
  },
  {
   "cell_type": "code",
   "execution_count": 25,
   "metadata": {},
   "outputs": [
    {
     "name": "stdout",
     "output_type": "stream",
     "text": [
      "1\n",
      "True\n",
      "[False, False, True, True, True]\n",
      "[3, 4, 5]\n"
     ]
    }
   ],
   "source": [
    "#************\n",
    "#--finding, filtering, mapping, reducing\n",
    "# reusing l from above as [0, 2, 3, 4, 5]\n",
    "import functools\n",
    "\n",
    "print (l.index(2))    #find index of element \"2\"\n",
    "                    #> 1\n",
    "\n",
    "#print l.index(6)   #> ValueError: 6 is not in list\n",
    "\n",
    "print (2 in l)        #Query existence of element\n",
    "                    #> True\n",
    "\n",
    "print (list (map(lambda x: x>2, l)) )    # apply a function to each element in list l\n",
    "                                #> [False, False, True, True, True]\n",
    "\n",
    "print (list (filter(lambda x: x>2, l)) )  #> [3, 4, 5]"
   ]
  },
  {
   "cell_type": "code",
   "execution_count": 26,
   "metadata": {},
   "outputs": [
    {
     "name": "stdout",
     "output_type": "stream",
     "text": [
      "[0, 2, 3, 4, 5]\n",
      "14\n",
      "5\n"
     ]
    }
   ],
   "source": [
    "# reduce\n",
    "\n",
    "print (l)\n",
    "print (functools.reduce(lambda x,y: x+y, l)) #> 14\n",
    "#Given l=[e1,e2,e3, e4]. Calling reduce(f,l) applies f( f( f(e1, e2), e3), e4)\n",
    "\n",
    "print (functools.reduce(lambda x,y: x if x>y else y, l))    #find max of l using reduce\n",
    "# note: \"algorithmic skeleton\" tree of 'reduce' is reusable with different functions"
   ]
  },
  {
   "cell_type": "code",
   "execution_count": 27,
   "metadata": {},
   "outputs": [
    {
     "name": "stdout",
     "output_type": "stream",
     "text": [
      "[2, 6, 12, 20]\n",
      "[[1, 1], [2, 4], [3, 9], [4, 16]]\n"
     ]
    }
   ],
   "source": [
    "#************\n",
    "#-- Operations on two lists\n",
    "lX=[1,2,3,4];   lY=[1,4,9,16]\n",
    "\n",
    "#- vector addition\n",
    "print (list( \n",
    "        map(lambda x, y: x+y, lX,lY) \n",
    "    ))\n",
    "#> [2, 6, 12, 20]\n",
    "\n",
    "# if map has more than one list, the function is called with an argument \n",
    "# list consisting of the corresponding item of each sequence, substituting \n",
    "# None for missing values when not all sequences have the same length.\n",
    "\n",
    "#generate list of lists\n",
    "pairs = [[x, y] for x, y in zip(lX, lY)]\n",
    "\n",
    "print (pairs)\n",
    "#> [[1, 1], [2, 4], [3, 9], [4, 16]]\n"
   ]
  },
  {
   "cell_type": "markdown",
   "metadata": {},
   "source": [
    "<hr>\n",
    "## Control Flow: Loops, Branching"
   ]
  },
  {
   "cell_type": "code",
   "execution_count": 28,
   "metadata": {},
   "outputs": [
    {
     "name": "stdout",
     "output_type": "stream",
     "text": [
      "0\n",
      "else\n",
      "2\n",
      "-- elif: %3\n",
      "4\n",
      "else\n",
      "not in the loop\n"
     ]
    }
   ],
   "source": [
    "#*******\n",
    "#--while\n",
    "\n",
    "i=0\n",
    "di=1\n",
    "while i<6:\n",
    "    if i % 2 == 0:\n",
    "        print (i)\n",
    "    elif i % 3 == 0:\n",
    "        print ('-- elif: %3')\n",
    "    else:\n",
    "        print ('else')\n",
    "    i+=di\n",
    "\n",
    "print (\"not in the loop\")\n",
    "\n",
    "#note: indent defines block structure; num of indents work like \"stack\"\n",
    "#otherwise: \n",
    "#> IndentationError: unexpected indent\n",
    "#> IndentationError: unindent does not match any outer indentation level"
   ]
  },
  {
   "cell_type": "code",
   "execution_count": 29,
   "metadata": {},
   "outputs": [
    {
     "name": "stdout",
     "output_type": "stream",
     "text": [
      "3\n",
      "2\n",
      "7\n",
      "4\n"
     ]
    }
   ],
   "source": [
    "#*****\n",
    "#--for\n",
    "#think of \"for\" as an \"iterator pattern\" over objects; body processes elements\n",
    "\n",
    "for i in [3,2,7,4]:\n",
    "    print (i)                     #> 3 2 7 4"
   ]
  },
  {
   "cell_type": "code",
   "execution_count": 30,
   "metadata": {},
   "outputs": [
    {
     "name": "stdout",
     "output_type": "stream",
     "text": [
      "[1, 2]\n",
      "[3, 4]\n",
      "[5, 6]\n"
     ]
    }
   ],
   "source": [
    "for i in [[1,2],[3,4],[5,6]]:\n",
    "    print (i)                     #> [1, 2]   [3,4]    [5,6]"
   ]
  },
  {
   "cell_type": "code",
   "execution_count": 31,
   "metadata": {},
   "outputs": [
    {
     "name": "stdout",
     "output_type": "stream",
     "text": [
      "bla\n",
      "3\n",
      "42.0\n",
      "(2+3j)\n"
     ]
    }
   ],
   "source": [
    "for i in [\"bla\",3,42.0, 2+3j]:\n",
    "    print (i)                     #> bla  3  42.0  (2+3j)"
   ]
  },
  {
   "cell_type": "code",
   "execution_count": 32,
   "metadata": {},
   "outputs": [
    {
     "name": "stdout",
     "output_type": "stream",
     "text": [
      "P\n",
      "y\n",
      "t\n",
      "h\n",
      "o\n",
      "n\n"
     ]
    }
   ],
   "source": [
    "for char in \"Python\":\n",
    "    print (char)                #>P\n",
    "                                #>y\n",
    "                                #>t\n",
    "                                #>h\n",
    "                                #>o\n",
    "                                #>n"
   ]
  },
  {
   "cell_type": "code",
   "execution_count": 33,
   "metadata": {},
   "outputs": [
    {
     "name": "stdout",
     "output_type": "stream",
     "text": [
      "1\n",
      "2\n",
      "3\n",
      "4\n",
      "5\n",
      "6\n",
      "7\n",
      "8\n",
      "9\n"
     ]
    }
   ],
   "source": [
    "for i in range(1,10,1):\n",
    "    print (i)                     #> 1 .. 9\n",
    "\n",
    "#range creates the list [1, 2, 3, 4, 5, 6, 7, 8, 9]. Note: different types in Python 2.7 vs. 3.x"
   ]
  },
  {
   "cell_type": "code",
   "execution_count": 34,
   "metadata": {},
   "outputs": [
    {
     "name": "stdout",
     "output_type": "stream",
     "text": [
      "<class 'range'>\n",
      "range(1, 10)\n",
      "[1, 2, 3, 4, 5, 6, 7, 8, 9]\n"
     ]
    }
   ],
   "source": [
    "print (type(range(1,10,1)))   #> <class 'range'>\n",
    "print (range(1,10,1))         #> range(1, 10)\n",
    "print (list(range(1,10,1)) )  #> [1, 2, 3, 4, 5, 6, 7, 8, 9]"
   ]
  },
  {
   "cell_type": "code",
   "execution_count": 35,
   "metadata": {},
   "outputs": [
    {
     "name": "stdout",
     "output_type": "stream",
     "text": [
      "[(1, 1), (1, 2), (1, 3), (2, 1), (2, 2), (2, 3), (3, 1), (3, 2), (3, 3)]\n",
      "[(1, 1), (1, 2), (2, 1)]\n"
     ]
    }
   ],
   "source": [
    "#*****\n",
    "#--Consider using list comprehensions for common tasks\n",
    "# Example: cross product\n",
    "print ( [(x,y) for x in range(1,4) for y in range(1,4)] )\n",
    "#> [(1, 1), (1, 2), (1, 3), (2, 1), (2, 2), (2, 3), (3, 1), (3, 2), (3, 3)]\n",
    "\n",
    "print ( [(x,y) for x in range(1,4) for y in range(1,4) if x+y<4] )\n",
    "#> [(1, 1), (1, 2), (2, 1)]"
   ]
  },
  {
   "cell_type": "code",
   "execution_count": 36,
   "metadata": {},
   "outputs": [
    {
     "name": "stdout",
     "output_type": "stream",
     "text": [
      "(1,10)\n",
      "(2,20)\n",
      "(3,30)\n",
      "(4,40)\n",
      "(5,50)\n"
     ]
    }
   ],
   "source": [
    "#*****\n",
    "#--- Traversing two lists simultaneously\n",
    "l1=[1,2,3,4,5];   l2=[10,20,30,40,50]\n",
    "\n",
    "#-Option 1\n",
    "for i in range(len(l1)):\n",
    "    print (\"(%s,%s)\" % (l1[i], l2[i]))"
   ]
  },
  {
   "cell_type": "code",
   "execution_count": 37,
   "metadata": {},
   "outputs": [
    {
     "name": "stdout",
     "output_type": "stream",
     "text": [
      "(1,10)\n",
      "(2,20)\n",
      "(3,30)\n",
      "(4,40)\n",
      "(5,50)\n"
     ]
    }
   ],
   "source": [
    "#-Option 2: alternative notation inPython\n",
    "for i,j in zip (l1, l2):\n",
    "    print (\"(%s,%s)\" % (i, j))\n",
    "\n",
    "#> (1,10) ... (5,50)\n",
    "\n",
    "# Notes:\n",
    "# zip(iterableObject) returns a list of tuples, where the i-th tuple contains \n",
    "# the i-th element from each of the argument sequences, i.e., \n",
    "# zip(l1,l2)  -> [(1, 10), (2, 20), (3, 30), (4, 40), (5, 50)]"
   ]
  },
  {
   "cell_type": "code",
   "execution_count": 38,
   "metadata": {},
   "outputs": [
    {
     "name": "stdout",
     "output_type": "stream",
     "text": [
      "550\n"
     ]
    }
   ],
   "source": [
    "dotProduct = sum(x*y for x,y in zip(l1, l2)) \n",
    "print (dotProduct)\n",
    "#> 550"
   ]
  },
  {
   "cell_type": "markdown",
   "metadata": {},
   "source": [
    "## Matrix Multiply"
   ]
  },
  {
   "cell_type": "code",
   "execution_count": 39,
   "metadata": {},
   "outputs": [
    {
     "name": "stdout",
     "output_type": "stream",
     "text": [
      "a: [[0.41328035 0.56868067]\n",
      " [0.09332117 0.00718026]] \n",
      "\n",
      " b:  [[0.69461312 0.05825022]\n",
      " [0.91966043 0.77861986]] \n",
      "\n",
      " c: [[0.81006306 0.46685974]\n",
      " [0.07142551 0.01102667]]\n",
      "\n",
      "\n",
      " d: [[0.81006306 0.46685974]\n",
      " [0.07142551 0.01102667]]\n"
     ]
    }
   ],
   "source": [
    "import numpy as np\n",
    "\n",
    "a = np.random.rand(2,2)\n",
    "b = np.random.rand(2,2)\n",
    "c = a @ b  # matrix multiply in Python 3.5+\n",
    "print(\"a:\", a,\"\\n\\n b: \",b,\"\\n\\n c:\", c)\n",
    "\n",
    "#if you don't have Python 3.5\n",
    "d = np.dot(a, b)\n",
    "print(\"\\n\\n d:\", d)"
   ]
  },
  {
   "cell_type": "markdown",
   "metadata": {},
   "source": [
    "<hr>\n",
    "## Data Structures: Dictionaries"
   ]
  },
  {
   "cell_type": "code",
   "execution_count": 40,
   "metadata": {},
   "outputs": [
    {
     "name": "stdout",
     "output_type": "stream",
     "text": [
      "dict_keys(['Venus', 'Earth', 'Neptune', 'Uranus'])\n",
      "dict_values([0.95, 1, 3.86, 3.98])\n",
      "Venus 0.95\n",
      "Earth 1\n",
      "Neptune 3.86\n",
      "Uranus 3.98\n",
      "0.95\n",
      "[0.95, 1, 3.86, 3.98]\n",
      "True\n",
      "[(0, 'Venus'), (1, 'Earth'), (2, 'Neptune'), (3, 'Uranus')]\n"
     ]
    }
   ],
   "source": [
    "#************\n",
    "#--Example 1: a non-ordered dictionary of key-value pairs\n",
    "\n",
    "meanRadius = {'Venus':0.95, 'Earth': 1, 'Neptune': 3.86, 'Uranus': 3.98}\n",
    "    #or  meanRadius = dict(Venus=0.95, Earth=1, Neptune=3.86, Uranus=3.98)\n",
    "\n",
    "#add one more\n",
    "#meanRadius['Saturn']=9.14\n",
    "\n",
    "print (meanRadius.keys())\n",
    "#> ['Earth', 'Venus', 'Neptune', 'Uranus']\n",
    "\n",
    "print (meanRadius.values())\n",
    "#> [1, 0.95, 3.86, 3.98]\n",
    "\n",
    "\n",
    "for x in meanRadius:\n",
    "    print (x, meanRadius[x])\n",
    "\n",
    "# > Earth 1\n",
    "#   Venus 0.95\n",
    "#   Neptune 3.86\n",
    "#   Uranus 3.98\n",
    "\n",
    "print (meanRadius['Venus'])\n",
    "#> 0.95\n",
    "\n",
    "print ([meanRadius[x] for x in meanRadius])\n",
    "#> [1, 0.95, 3.86, 3.98]\n",
    "\n",
    "\n",
    "print (\"Venus\" in meanRadius)\n",
    "#> True\n",
    "\n",
    "\n",
    "print (list(enumerate(meanRadius.keys(), start=0)))\n",
    "#> [(0, 'Earth'), (1, 'Venus'), (2, 'Neptune'), (3, 'Uranus')]"
   ]
  },
  {
   "cell_type": "code",
   "execution_count": 41,
   "metadata": {},
   "outputs": [
    {
     "name": "stdout",
     "output_type": "stream",
     "text": [
      "5242933\n"
     ]
    }
   ],
   "source": [
    "#************\n",
    "#--Example 2: Polynomial evaluation\n",
    "# p(x)=1+2x+3x^4+5x^20   , evaluate p(2)\n",
    "\n",
    "orderCoeff={0:1, 1:2, 4:3, 20:5}    #use a dictionary\n",
    "\n",
    "def polyEval(coeffList, x):\n",
    "    return sum( [coeffList[coeff]*x**coeff   for coeff in coeffList] )\n",
    "    #start by reading this list comprehension backwards: iterate throuh all\n",
    "    #coeffs in dictionary (for part), get current coeff, evaluate at x, \n",
    "    #add result to list, sum the list up\n",
    "    \n",
    "print (polyEval(orderCoeff, 2))\n",
    "#> 5242933"
   ]
  },
  {
   "cell_type": "code",
   "execution_count": 42,
   "metadata": {},
   "outputs": [
    {
     "name": "stdout",
     "output_type": "stream",
     "text": [
      "{2: 4, 4: 16, 6: 36}\n",
      "{1: 1, 2: 4, 3: 9, 4: 16, 5: 25, 6: 36, 7: 49, 8: 64, 9: 81}\n"
     ]
    }
   ],
   "source": [
    "#************\n",
    "#--Example 3: Generate a dictionary using x^2\n",
    "demoDict1= {x: x**2 for x in (2, 4, 6)}\n",
    "demoDict2= {x: x**2 for x in range(1,10)}\n",
    "\n",
    "print (demoDict1)\n",
    "#> {2: 4, 4: 16, 6: 36}\n",
    "\n",
    "print (demoDict2)\n",
    "#> {1: 1, 2: 4, 3: 9, 4: 16, 5: 25, 6: 36, 7: 49, 8: 64, 9: 81}\n"
   ]
  },
  {
   "cell_type": "markdown",
   "metadata": {},
   "source": [
    "<hr>\n",
    "## Object-Oriented Programming: Classes"
   ]
  },
  {
   "cell_type": "code",
   "execution_count": 43,
   "metadata": {},
   "outputs": [
    {
     "name": "stdout",
     "output_type": "stream",
     "text": [
      "122.58375\n",
      "46.25\n",
      "The values are v0 = 0, g = 9.8067\n",
      "0\n",
      "description of what this class does\n",
      "{'v0': 0, 'g': 9.8067}\n",
      "<class 'type'> <class '__main__.Y'>\n"
     ]
    }
   ],
   "source": [
    "#**********\n",
    "# Example 1\n",
    "\n",
    "#--Create a class\n",
    "class Y:\n",
    "    \"\"\"description of what this class does\"\"\"\n",
    "    \n",
    "    def __init__(self, v0, g):      #Called when instance is created.\n",
    "        self.v0 = v0\n",
    "        self.g = g\n",
    "    \n",
    "    def valueAt(self, t):\n",
    "        return self.v0*t + 0.5*self.g*t**2\n",
    "        \n",
    "    def __str__(self):              # used by the print statement  \n",
    "                                    # string representation of object.       \n",
    "        return \"The values are v0 = %s, g = %s\" % (self.v0, self.g)\n",
    "\n",
    "        \n",
    "yEarth = Y(0, 9.81)             # create an instance\n",
    "yEarth.g = 9.8067               # shows how to reset value for g\n",
    "yMars  = Y(0, 3.7)\n",
    "\n",
    "print (yEarth.valueAt(5))         #> 122.58375\n",
    "print (yMars.valueAt(5))          #> 46.25\n",
    "print (yEarth)                    #> The values are: v0 = 0, g = 9.81\n",
    "print (yEarth.v0)                 #> 0\n",
    "print (yEarth.__doc__)            #> description of what this class does\n",
    "\n",
    "print (yEarth.__dict__ )          #> {'v0': 0, 'g': 9.8067}\n",
    "                                  #internally, Y stores v0 and g in a\n",
    "                                  #dictionary that can be accessed via __dict__\n",
    "\n",
    "print (type(Y), type(yEarth))     #<class 'type'> <class '__main__.Y'>"
   ]
  },
  {
   "cell_type": "code",
   "execution_count": 44,
   "metadata": {},
   "outputs": [
    {
     "name": "stdout",
     "output_type": "stream",
     "text": [
      "[0.0, 4.905, 19.62, 44.145, 78.48, 122.625]\n"
     ]
    }
   ],
   "source": [
    "#--Create a subclass that extends Y\n",
    "class Y_extended(Y):\n",
    "    \n",
    "    def __init__(self, v0, g):\n",
    "        Y.__init__(self, v0, g)        \n",
    "        \n",
    "    def printValueRange(self, min, max):\n",
    "        print ( [self.valueAt(v) for v in range(min,max)] )\n",
    "\n",
    "\n",
    "newYEarth = Y_extended(0, 9.81)\n",
    "newYEarth.printValueRange(0,6)  #> [0.0, 4.905, 19.62, 44.145, 78.48, 122.625]"
   ]
  },
  {
   "cell_type": "code",
   "execution_count": 45,
   "metadata": {},
   "outputs": [
    {
     "name": "stdout",
     "output_type": "stream",
     "text": [
      "43\n",
      "False\n",
      "43\n",
      "True\n"
     ]
    }
   ],
   "source": [
    "#**********\n",
    "# Example 2\n",
    "\n",
    "# -- callable vs. non-callable class\n",
    "\n",
    "\n",
    "#a non-callable function\n",
    "class f_noncallable:\n",
    "        def __init__(self, myVar):\n",
    "            self.var = myVar\n",
    "            \n",
    "        def valueAt(self, t):\n",
    "            return self.var+t\n",
    "            \n",
    "#a callable function\n",
    "class f_callable:\n",
    "        def __init__(self, myVar):\n",
    "            self.var = myVar\n",
    "            \n",
    "        def __call__(self, t):  # Called when the instance is 'called'\n",
    "            return self.var+t   # as a function; if this method is defined, \n",
    "                                # x(arg1, arg2, ...) is shorthand for \n",
    "                                # x.__call__(arg1, arg2, ...)\n",
    "\n",
    "        \n",
    "f_non = f_noncallable(42)       #initialize\n",
    "print (f_non.valueAt(1))        #> 43\n",
    "\n",
    "# print (f_non(1) )             #does not work. Causes\n",
    "                                #AttributeError: noncallable \n",
    "                                #instance has no __call__ method\n",
    "\n",
    "print (callable(f_non))         #>False\n",
    "\n",
    "\n",
    "\n",
    "f_c = f_callable(42)            #initialize\n",
    "print (f_c(1))                  #> 43\n",
    "                                #call works now; invoke f_c now more 'naturally'\n",
    "                                # as f_c(1) instead of f_c.valueAt(1)\n",
    "\n",
    "print (callable(f_c))           #>True"
   ]
  },
  {
   "cell_type": "code",
   "execution_count": 46,
   "metadata": {},
   "outputs": [
    {
     "name": "stdout",
     "output_type": "stream",
     "text": [
      "[1, 2, 3] [1, 1, 1]\n",
      "[2, 3, 4]\n",
      "[0, 1, 2]\n"
     ]
    }
   ],
   "source": [
    "#**********\n",
    "# Example 3\n",
    "\n",
    "# --special method names and operator overloading\n",
    "class myVector:\n",
    "    def __init__(self, dataList):\n",
    "        self.dataList=dataList\n",
    "        \n",
    "    def __str__(self):\n",
    "        return repr(self.dataList)\n",
    "    \n",
    "    #special method names like \"__add__\" can be invoked with special syntax -\n",
    "    #see calls below - to emulate numeric objects\n",
    "    #This is Python's approach to operator overloading, allowing classes to \n",
    "    #define their own behavior with respect to language operators.    \n",
    "    def __add__(self, otherVector):\n",
    "        return [i+j for i,j in zip(self.dataList,otherVector.dataList)]\n",
    "\n",
    "    def __sub__(self, otherVector):\n",
    "        return [i-j for i,j in zip(self.dataList,otherVector.dataList)]\n",
    "\n",
    "\n",
    "v1 = myVector([1,2,3])\n",
    "v2 = myVector([1,1,1])\n",
    "print (v1, v2)                #> [1, 2, 3] [1, 1, 1]\n",
    "print (v1 + v2)               #> [2, 3, 4]\n",
    "print (v1 - v2)               #> [0, 1, 2]\n",
    "\n",
    "\n",
    "\n",
    "#Notes: \n",
    "#See Python language reference manual for other special method names, e.g,\n",
    "# x<y       calls   x.__lt__(y)\n",
    "# x<=y      calls   x.__le__(y)\n",
    "# abs(x)    calls   x.__abs(self)\n",
    "# x[key]    calls   x.__getitem__(self, key)"
   ]
  },
  {
   "cell_type": "markdown",
   "metadata": {},
   "source": [
    "<hr>\n",
    "## Functions with multiple return values"
   ]
  },
  {
   "cell_type": "code",
   "execution_count": 47,
   "metadata": {},
   "outputs": [
    {
     "name": "stdout",
     "output_type": "stream",
     "text": [
      "42 0\n"
     ]
    }
   ],
   "source": [
    "#multiple variable assignment; no need for 'temp' variable to swap a and b\n",
    "a,b = 0,42\n",
    "b,a = a,b\n",
    "print (a,b)                           #> 42 0"
   ]
  },
  {
   "cell_type": "code",
   "execution_count": 48,
   "metadata": {},
   "outputs": [
    {
     "name": "stdout",
     "output_type": "stream",
     "text": [
      "7 -1\n",
      "<class 'tuple'>\n",
      "(2, 4, 16)\n",
      "<class 'tuple'>\n"
     ]
    }
   ],
   "source": [
    "#***********\n",
    "#--Example 1\n",
    "def f(a,b):\n",
    "    return a+b, a-b\n",
    "    \n",
    "x, y = f(3, 4)\n",
    "\n",
    "print (x, y)              #> 7 -1\n",
    "print (type(f(3,4)))      #> <type 'tuple'>\n",
    "\n",
    "\n",
    "\n",
    "#***********\n",
    "#--Example 2\n",
    "def g(x):\n",
    "    return x, x**2, x**4\n",
    "    \n",
    "print (g(2))              #> (2, 4, 16)\n",
    "print (type (g(2)))       #> <type 'tuple'>"
   ]
  },
  {
   "cell_type": "code",
   "execution_count": 49,
   "metadata": {},
   "outputs": [
    {
     "name": "stdout",
     "output_type": "stream",
     "text": [
      "3\n",
      "2\n"
     ]
    }
   ],
   "source": [
    "#*************************************************\n",
    "# Function arguments with default values\n",
    "\n",
    "def h(x,y=1):\n",
    "    return x+y\n",
    "    \n",
    "print (h(1,2))\n",
    "#> 3\n",
    "\n",
    "print (h(1))  #no y specified, use default value for y\n",
    "#> 2"
   ]
  },
  {
   "cell_type": "markdown",
   "metadata": {},
   "source": [
    "<hr>\n",
    "## Generators"
   ]
  },
  {
   "cell_type": "code",
   "execution_count": 50,
   "metadata": {},
   "outputs": [
    {
     "name": "stdout",
     "output_type": "stream",
     "text": [
      "<generator object <genexpr> at 0x10d0adf68>\n",
      "285\n",
      "1875\n",
      "3888\n",
      "[0, 1, 0, 1, 0, 1, 0, 1, 0, 1]\n"
     ]
    }
   ],
   "source": [
    "#Generator expressions\n",
    "gen1 = (x*x for x in range(10))\n",
    "print (gen1)                          #> <generator object <genexpr> at 0x103e7d050>\n",
    "print (sum(gen1))                     #> 285\n",
    "\n",
    "\n",
    "gen2 = (3*x**4 for x in range(5,10))\n",
    "print (next(gen2))                   #> 1875\n",
    "print (next(gen2))                   #> 3888\n",
    "\n",
    "gen3 = (x % 2 for x in range(10))\n",
    "print (list(gen3))                    #> [0, 1, 0, 1, 0, 1, 0, 1, 0, 1]\n",
    "\n",
    "\n",
    "# Rationale: don't keep all generator elements in memory, but generate element\n",
    "# when called, one at a time.\n",
    "# Generator expression : sum(x*x for x in range(10)) saves memory, compared \n",
    "# to list comprehension  sum([x*x for x in range(10)])"
   ]
  },
  {
   "cell_type": "code",
   "execution_count": 51,
   "metadata": {},
   "outputs": [
    {
     "name": "stdout",
     "output_type": "stream",
     "text": [
      "[0, 1, 1, 2, 3, 5]\n",
      "[0, 1, 1, 2, 3, 5]\n"
     ]
    }
   ],
   "source": [
    "# Generator function - Fibonacci example\n",
    "#   A generator function has \"yield\" statement that returns next element.\n",
    "#   Generators retain state between calls\n",
    "def fibonacci(max):\n",
    "    a, b = 0, 1\n",
    "    while a < max:\n",
    "        yield a\n",
    "        a, b = b, a + b         #right-hand side expressions evaluated first,\n",
    "                                #from left to right, then assignments\n",
    "        \n",
    "print (list(fibonacci(6)))        #> [0, 1, 1, 2, 3, 5]\n",
    "\n",
    "\n",
    "\n",
    "#Illustration: above without multiple variable assignment\n",
    "def fibonacci_v2(max):\n",
    "    a=0\n",
    "    b=1\n",
    "    while a < max:\n",
    "        yield a\n",
    "        a_old=a\n",
    "        a = b\n",
    "        b = a_old+b                 \n",
    "\n",
    "print (list(fibonacci(6)))            #> [0, 1, 1, 2, 3, 5]"
   ]
  },
  {
   "cell_type": "markdown",
   "metadata": {},
   "source": [
    "<hr>\n",
    "## Iterators"
   ]
  },
  {
   "cell_type": "code",
   "execution_count": 52,
   "metadata": {},
   "outputs": [
    {
     "name": "stdout",
     "output_type": "stream",
     "text": [
      "['A', 'B', 'C', 'A', 'B', 'C', 'A', 'B', 'C', 'A']\n"
     ]
    }
   ],
   "source": [
    "import itertools\n",
    "\n",
    "\n",
    "c=itertools.cycle('ABC')\n",
    "print ([next(c) for a in range(10)])\n",
    "#> ['A', 'B', 'C', 'A', 'B', 'C', 'A', 'B', 'C', 'A']"
   ]
  },
  {
   "cell_type": "code",
   "execution_count": 53,
   "metadata": {},
   "outputs": [
    {
     "name": "stdout",
     "output_type": "stream",
     "text": [
      "[5, 8, 11, 14, 17, 20, 23, 26, 29, 32]\n"
     ]
    }
   ],
   "source": [
    "c=itertools.count(5, 3)\n",
    "print ([next(c) for a in range(10)])\n",
    "#> [5, 8, 11, 14, 17, 20, 23, 26, 29, 32]"
   ]
  },
  {
   "cell_type": "code",
   "execution_count": 54,
   "metadata": {},
   "outputs": [
    {
     "name": "stdout",
     "output_type": "stream",
     "text": [
      "['T', 'h', 's']\n"
     ]
    }
   ],
   "source": [
    "#Element selector at position\n",
    "print (list(itertools.compress('This is my text',[1,1,0,1])))\n",
    "#> ['T', 'h', 's']"
   ]
  },
  {
   "cell_type": "code",
   "execution_count": 55,
   "metadata": {},
   "outputs": [
    {
     "name": "stdout",
     "output_type": "stream",
     "text": [
      "[1, 0, 3]\n"
     ]
    }
   ],
   "source": [
    "#Select elements from list until a predicate fails\n",
    "print (list(itertools.takewhile(lambda x: x<4, [1,0,3,4,17,5,1])))\n",
    "#> [1, 0, 3]"
   ]
  },
  {
   "cell_type": "code",
   "execution_count": 56,
   "metadata": {},
   "outputs": [
    {
     "name": "stdout",
     "output_type": "stream",
     "text": [
      "[('A', 'B', 'C'), ('A', 'C', 'B'), ('B', 'A', 'C'), ('B', 'C', 'A'), ('C', 'A', 'B'), ('C', 'B', 'A')]\n",
      "[('A', 'B'), ('A', 'C'), ('B', 'A'), ('B', 'C'), ('C', 'A'), ('C', 'B')]\n",
      "[('A', 'B'), ('A', 'C'), ('B', 'C')]\n"
     ]
    }
   ],
   "source": [
    "###\n",
    "# Combinatoric generators\n",
    "\n",
    "print (list(itertools.permutations('ABC')))\n",
    "#> [('A', 'B', 'C'), ('A', 'C', 'B'), ('B', 'A', 'C'), ('B', 'C', 'A'), \n",
    "#  ('C', 'A', 'B'), ('C', 'B', 'A')]\n",
    "\n",
    "print (list(itertools.permutations('ABC',2)))\n",
    "#> [('A', 'B'), ('A', 'C'), ('B', 'A'), ('B', 'C'), ('C', 'A'), ('C', 'B')]\n",
    "\n",
    "print (list(itertools.combinations('ABC',2)))\n",
    "#> [('A', 'B'), ('A', 'C'), ('B', 'C')]"
   ]
  },
  {
   "cell_type": "markdown",
   "metadata": {},
   "source": [
    "<hr>\n",
    "## Closures"
   ]
  },
  {
   "cell_type": "code",
   "execution_count": 57,
   "metadata": {},
   "outputs": [
    {
     "name": "stdout",
     "output_type": "stream",
     "text": [
      "0\n",
      "98\n",
      "1\n",
      "100\n"
     ]
    }
   ],
   "source": [
    "#create function that 'remembers' bound values of its enclosing scope\n",
    "#closure ~ function + environment with references to non-local variables\n",
    "\n",
    "def start(s):   #this is a 'higher-order function' that\n",
    "                #returns closure cosisting of \n",
    "                #   - reference to function 'increment' + \n",
    "                #   - reference to variable s\n",
    "                #So when 'increment' is invoked, it 'knows' where to find s.\n",
    "                #Variable s will be bound to a value, i.e., \"closed\"\n",
    "    def increment(i):\n",
    "        return s+i\n",
    "    return increment\n",
    "\n",
    "f = start(0)    #f now refers to function 'increment'\n",
    "g = start(98)   #g now refers to function 'increment'\n",
    "\n",
    "#increment 'knows' the value of s from its attached __closure__ property\n",
    "print (f.__closure__[0].cell_contents)        #> 0\n",
    "print (g.__closure__[0].cell_contents)        #> 98\n",
    "\n",
    "\n",
    "print (f(1))  #> 1\n",
    "print (g(2))  #> 100\n"
   ]
  },
  {
   "cell_type": "markdown",
   "metadata": {},
   "source": [
    "<hr>\n",
    "## Metaprogramming"
   ]
  },
  {
   "cell_type": "code",
   "execution_count": 58,
   "metadata": {},
   "outputs": [
    {
     "name": "stdout",
     "output_type": "stream",
     "text": [
      "['__add__', '__class__', '__contains__', '__delattr__', '__delitem__', '__dir__', '__eq__', '__format__', '__ge__', '__getattribute__', '__getitem__', '__gt__', '__iadd__', '__imul__', '__init__', '__init_subclass__', '__iter__', '__le__', '__len__', '__lt__', '__mul__', '__ne__', '__new__', '__reduce__', '__reduce_ex__', '__repr__', '__reversed__', '__rmul__', '__setattr__', '__setitem__', '__sizeof__', '__str__', '__subclasshook__', 'append', 'clear', 'copy', 'count', 'extend', 'index', 'insert', 'pop', 'remove', 'reverse', 'sort']\n"
     ]
    }
   ],
   "source": [
    "# Print a list of methods that can be called on object l\n",
    "l = [1,2,3]\n",
    "print ([method for method in dir(l) if callable(getattr(l, method))])\n",
    "\n",
    "# dir() or dir(object)\n",
    "# - Without arguments, return the list of names in the current local scope. \n",
    "# - With an argument, attempt to return a list of valid attributes for that object.\n"
   ]
  },
  {
   "cell_type": "markdown",
   "metadata": {},
   "source": [
    "<hr>\n",
    "## Runtime performance measurement"
   ]
  },
  {
   "cell_type": "code",
   "execution_count": 59,
   "metadata": {},
   "outputs": [
    {
     "name": "stdout",
     "output_type": "stream",
     "text": [
      "[4.000000000115023e-06, 1.3000000000040757e-05]\n"
     ]
    }
   ],
   "source": [
    "# (there are better libraries to do this; illustrating principles here)\n",
    "\n",
    "import time, math\n",
    "\n",
    "def testFunc1(x):\n",
    "    return x\n",
    "    \n",
    "def testFunc2(x):\n",
    "    return math.factorial(x)\n",
    "\n",
    "functionsToTest = [testFunc1, testFunc2]   \n",
    "#note1: think about how you would do this in other languages\n",
    "\n",
    "execTimes = [] # CPU times for functionsToTest[i]\n",
    "\n",
    "for func in functionsToTest:\n",
    "    t0 = time.clock()\n",
    "    func(90)\n",
    "    t1 = time.clock()\n",
    "    cpu_time = t1 - t0\n",
    "    execTimes.append(cpu_time)\n",
    "    \n",
    "print (execTimes)\n"
   ]
  },
  {
   "cell_type": "code",
   "execution_count": null,
   "metadata": {
    "collapsed": true
   },
   "outputs": [],
   "source": []
  }
 ],
 "metadata": {
  "kernelspec": {
   "display_name": "Python 3",
   "language": "python",
   "name": "python3"
  },
  "language_info": {
   "codemirror_mode": {
    "name": "ipython",
    "version": 3
   },
   "file_extension": ".py",
   "mimetype": "text/x-python",
   "name": "python",
   "nbconvert_exporter": "python",
   "pygments_lexer": "ipython3",
   "version": "3.6.2"
  }
 },
 "nbformat": 4,
 "nbformat_minor": 1
}
