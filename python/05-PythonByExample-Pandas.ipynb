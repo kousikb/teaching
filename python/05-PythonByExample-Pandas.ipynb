{
 "cells": [
  {
   "cell_type": "markdown",
   "metadata": {},
   "source": [
    "## Python - A Crash Course By Example\n",
    "## Pandas Data Frames\n",
    "Dr. Victor Pankratius<br>\n",
    "Massachusetts Institute of Technology<br>\n",
    "http://www.victorpankratius.com\n",
    "\n",
    "<hr>"
   ]
  },
  {
   "cell_type": "markdown",
   "metadata": {},
   "source": [
    "#### Pandas - working with tabular data\n",
    "https://pandas.pydata.org/pandas-docs/stable/index.html <br>\n",
    "https://pandas.pydata.org/pandas-docs/stable/pandas.pdf"
   ]
  },
  {
   "cell_type": "code",
   "execution_count": 1,
   "metadata": {
    "collapsed": true
   },
   "outputs": [],
   "source": [
    "#pandas data structure overview; code and examples from pandas repo/sources\n",
    "#\n",
    "# Series        dim: 1, labeled same-type array\n",
    "# TimeSeries    dim: 1, series with datetime index\n",
    "# DataFrame     dim: 2, table structure, var size / column types\n",
    "# Panel         dim: 3, labeled array, var size\n",
    "\n",
    "#*******************************************************************\n",
    "# \n",
    "import pandas as pd"
   ]
  },
  {
   "cell_type": "code",
   "execution_count": 2,
   "metadata": {},
   "outputs": [
    {
     "name": "stdout",
     "output_type": "stream",
     "text": [
      "0     99.0\n",
      "1    100.0\n",
      "2    120.1\n",
      "dtype: float64\n"
     ]
    }
   ],
   "source": [
    "# create Series\n",
    "print ( pd.Series([99,100,120.1]) )\n",
    "#> \n",
    "#0     99.0\n",
    "#1    100.0\n",
    "#2    120.1\n",
    "#dtype: float64\n",
    "#Note: pandas creates default integer index"
   ]
  },
  {
   "cell_type": "code",
   "execution_count": 3,
   "metadata": {},
   "outputs": [
    {
     "name": "stdout",
     "output_type": "stream",
     "text": [
      "DatetimeIndex(['2013-01-01', '2013-01-02', '2013-01-03'], dtype='datetime64[ns]', freq='D')\n"
     ]
    }
   ],
   "source": [
    "dates=pd.date_range('20130101',periods=3)\n",
    "print (dates)\n",
    "#> DatetimeIndex([2013-01-01, ..., 2013-01-03]...\n",
    "#  Length: 3, Freq: D, Timezone: None"
   ]
  },
  {
   "cell_type": "code",
   "execution_count": 4,
   "metadata": {},
   "outputs": [
    {
     "name": "stdout",
     "output_type": "stream",
     "text": [
      "2013-01-03 00:00:00\n"
     ]
    }
   ],
   "source": [
    "print (dates[2])\n",
    "#> 2013-01-03 00:00:00"
   ]
  },
  {
   "cell_type": "code",
   "execution_count": 5,
   "metadata": {},
   "outputs": [
    {
     "name": "stdout",
     "output_type": "stream",
     "text": [
      "[[-0.38018585 -0.32997138 -0.54527619]\n",
      " [ 0.8737399  -0.60607225  0.65851617]\n",
      " [-0.37840914  0.38771611 -0.96332527]]\n"
     ]
    }
   ],
   "source": [
    "import numpy as np\n",
    "myRandArray=np.random.randn(3,3)\n",
    "print (myRandArray)\n",
    "#>\n",
    "#[[-0.04022492 -1.48910418  0.32314919]\n",
    "# [ 0.72081504 -1.28415429 -0.22712481]\n",
    "# [ 0.33201108  1.88092201  0.12513505]]"
   ]
  },
  {
   "cell_type": "code",
   "execution_count": 6,
   "metadata": {},
   "outputs": [
    {
     "name": "stdout",
     "output_type": "stream",
     "text": [
      "                   A         B         C\n",
      "2013-01-01 -0.380186 -0.329971 -0.545276\n",
      "2013-01-02  0.873740 -0.606072  0.658516\n",
      "2013-01-03 -0.378409  0.387716 -0.963325\n"
     ]
    }
   ],
   "source": [
    "#add / create a pandas dataframe\n",
    "df = pd.DataFrame(myRandArray,index=dates,columns=list('ABC'))\n",
    "print (df)\n",
    "#                   A         B         C\n",
    "#2013-01-01 -0.040225 -1.489104  0.323149\n",
    "#2013-01-02  0.720815 -1.284154 -0.227125\n",
    "#2013-01-03  0.332011  1.880922  0.125135"
   ]
  },
  {
   "cell_type": "code",
   "execution_count": 7,
   "metadata": {},
   "outputs": [
    {
     "name": "stdout",
     "output_type": "stream",
     "text": [
      "                   A         B         C\n",
      "2013-01-01  0.380186  0.329971  0.545276\n",
      "2013-01-02  0.873740  0.606072  0.658516\n",
      "2013-01-03  0.378409  0.387716  0.963325\n"
     ]
    }
   ],
   "source": [
    "# map a function to individual elements of data frame; \n",
    "# compare with 'map' in Python tutorial 1\n",
    "print (df.applymap(abs))\n",
    "#                   A         B         C\n",
    "#2013-01-01  0.040225  1.489104  0.323149\n",
    "#2013-01-02  0.720815  1.284154  0.227125\n",
    "#2013-01-03  0.332011  1.880922  0.125135"
   ]
  },
  {
   "cell_type": "code",
   "execution_count": 8,
   "metadata": {},
   "outputs": [
    {
     "name": "stdout",
     "output_type": "stream",
     "text": [
      "A    0.115145\n",
      "B   -0.548328\n",
      "C   -0.850085\n",
      "dtype: float64\n"
     ]
    }
   ],
   "source": [
    "#apply sum function column-wise\n",
    "print (df.apply(sum))\n",
    "#A    1.012601\n",
    "#B   -0.892336\n",
    "#C    0.221159"
   ]
  },
  {
   "cell_type": "code",
   "execution_count": 9,
   "metadata": {},
   "outputs": [
    {
     "name": "stdout",
     "output_type": "stream",
     "text": [
      "A    0.038382\n",
      "B   -0.182776\n",
      "C   -0.283362\n",
      "dtype: float64\n"
     ]
    }
   ],
   "source": [
    "#mean per column\n",
    "print (df.mean())\n",
    "#A    0.337534\n",
    "#B   -0.297445\n",
    "#C    0.073720"
   ]
  },
  {
   "cell_type": "code",
   "execution_count": 10,
   "metadata": {
    "collapsed": true
   },
   "outputs": [],
   "source": [
    "df2 = pd.DataFrame({'A':1.,\n",
    "                    'B':pd.Timestamp('20150206'),\n",
    "                    'C':pd.Series(1,index=list(range(4)),dtype='float32'),\n",
    "                    'D' : np.array([3] * 4,dtype='int32'),\n",
    "                    'E' : pd.Categorical([\"test\",\"train\",\"test\",\"train\"]),\n",
    "                    'F' : 'foo'\n",
    "})"
   ]
  },
  {
   "cell_type": "code",
   "execution_count": 11,
   "metadata": {},
   "outputs": [
    {
     "name": "stdout",
     "output_type": "stream",
     "text": [
      "     A          B    C  D      E    F\n",
      "0  1.0 2015-02-06  1.0  3   test  foo\n",
      "1  1.0 2015-02-06  1.0  3  train  foo\n",
      "2  1.0 2015-02-06  1.0  3   test  foo\n",
      "3  1.0 2015-02-06  1.0  3  train  foo\n"
     ]
    }
   ],
   "source": [
    "print (df2)\n",
    "#>  A          B  C  D      E    F\n",
    "#0  1 2015-02-06  1  3   test  foo\n",
    "#1  1 2015-02-06  1  3  train  foo\n",
    "#2  1 2015-02-06  1  3   test  foo\n",
    "#3  1 2015-02-06  1  3  train  foo"
   ]
  },
  {
   "cell_type": "code",
   "execution_count": 12,
   "metadata": {},
   "outputs": [
    {
     "name": "stdout",
     "output_type": "stream",
     "text": [
      "2013-01-01   -0.380186\n",
      "2013-01-02    0.873740\n",
      "2013-01-03   -0.378409\n",
      "Freq: D, Name: A, dtype: float64\n"
     ]
    }
   ],
   "source": [
    "print (df['A'])   #get colum A\n",
    "#2013-01-01   -0.040225\n",
    "#2013-01-02    0.720815\n",
    "#2013-01-03    0.332011"
   ]
  },
  {
   "cell_type": "code",
   "execution_count": 13,
   "metadata": {},
   "outputs": [
    {
     "name": "stdout",
     "output_type": "stream",
     "text": [
      "                  A         B         C\n",
      "2013-01-02  0.87374 -0.606072  0.658516\n"
     ]
    }
   ],
   "source": [
    "print (df[df['A']>0]) #use A's colum to select data\n",
    "#                   A         B         C\n",
    "#2013-01-02  0.720815 -1.284154 -0.227125\n",
    "#2013-01-03  0.332011  1.880922  0.125135"
   ]
  },
  {
   "cell_type": "code",
   "execution_count": 14,
   "metadata": {},
   "outputs": [
    {
     "name": "stdout",
     "output_type": "stream",
     "text": [
      "         C  D\n",
      "E            \n",
      "test   2.0  6\n",
      "train  2.0  6\n"
     ]
    }
   ],
   "source": [
    "#create groups and then the sum per group\n",
    "print ( df2[['C','D','E']].groupby('E').sum() )\n",
    "#       C  D\n",
    "#E          \n",
    "#test   2  6\n",
    "#train  2  6"
   ]
  },
  {
   "cell_type": "code",
   "execution_count": 15,
   "metadata": {},
   "outputs": [
    {
     "name": "stdout",
     "output_type": "stream",
     "text": [
      "Empty DataFrame\n",
      "Columns: [A, B, C]\n",
      "Index: []\n"
     ]
    }
   ],
   "source": [
    "print  ( df.query('A < 0 & B > 1') )\n",
    "#>\n",
    "#Columns: [A, B, C]\n",
    "#Index: []\n",
    "#"
   ]
  },
  {
   "cell_type": "code",
   "execution_count": 16,
   "metadata": {},
   "outputs": [
    {
     "data": {
      "text/plain": [
       "<matplotlib.axes._subplots.AxesSubplot at 0x11c2bd358>"
      ]
     },
     "execution_count": 16,
     "metadata": {},
     "output_type": "execute_result"
    },
    {
     "data": {
      "image/png": "[encoded data removed]",
      "text/plain": [
       "<matplotlib.figure.Figure at 0x11b70ca58>"
      ]
     },
     "metadata": {},
     "output_type": "display_data"
    },
    {
     "data": {
      "image/png": "[encoded data removed]",
      "text/plain": [
       "<matplotlib.figure.Figure at 0x11c048ba8>"
      ]
     },
     "metadata": {},
     "output_type": "display_data"
    }
   ],
   "source": [
    "#create a box and whiskers plot\n",
    "%matplotlib inline\n",
    "df.boxplot()\n",
    "df.plot()"
   ]
  }
 ],
 "metadata": {
  "kernelspec": {
   "display_name": "Python 3",
   "language": "python",
   "name": "python3"
  },
  "language_info": {
   "codemirror_mode": {
    "name": "ipython",
    "version": 3
   },
   "file_extension": ".py",
   "mimetype": "text/x-python",
   "name": "python",
   "nbconvert_exporter": "python",
   "pygments_lexer": "ipython3",
   "version": "3.6.2"
  }
 },
 "nbformat": 4,
 "nbformat_minor": 2
}
