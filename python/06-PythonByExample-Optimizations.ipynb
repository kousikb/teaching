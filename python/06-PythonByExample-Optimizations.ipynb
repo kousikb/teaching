{
 "cells": [
  {
   "cell_type": "markdown",
   "metadata": {},
   "source": [
    "## Python - A Crash Course By Example\n",
    "## Simple Performance Optimizations\n",
    "Dr. Victor Pankratius<br>\n",
    "Massachusetts Institute of Technology<br>\n",
    "http://www.victorpankratius.com\n",
    "\n",
    "<hr>"
   ]
  },
  {
   "cell_type": "markdown",
   "metadata": {},
   "source": [
    "## JobLib - Python Functions as Pipeline Jobs\n",
    "https://joblib.readthedocs.io/en/latest/\n",
    "<hr>"
   ]
  },
  {
   "cell_type": "code",
   "execution_count": 1,
   "metadata": {
    "collapsed": true
   },
   "outputs": [],
   "source": [
    "#%% JobLib    Code and text from https://pythonhosted.org/joblib/joblib/\n",
    "\n",
    "##############\n",
    "# Caching\n",
    "#\n",
    "# Useful for long-running calculations\n",
    "#\n",
    "#Transparent and fast disk-caching of output values; works for arbitrary \n",
    "#Python objects, including very large numpy arrays. Joblib can save computation \n",
    "#results to disk and rerun computations only if necessary.\n",
    "#\n",
    "#The Memory class defines a context for lazy evaluation of function, \n",
    "#by storing the results to the disk, and not rerunning the function twice \n",
    "#for the same arguments."
   ]
  },
  {
   "cell_type": "code",
   "execution_count": 2,
   "metadata": {
    "collapsed": true
   },
   "outputs": [],
   "source": [
    "# !pip install joblib #uncomment and run this line if not joblib is not installed"
   ]
  },
  {
   "cell_type": "code",
   "execution_count": 3,
   "metadata": {},
   "outputs": [
    {
     "name": "stdout",
     "output_type": "stream",
     "text": [
      "9\n"
     ]
    },
    {
     "name": "stderr",
     "output_type": "stream",
     "text": [
      "/anaconda/lib/python3.6/site-packages/ipykernel_launcher.py:2: DeprecationWarning: The 'cachedir' parameter has been deprecated in version 0.12 and will be removed in version 0.14.\n",
      "You provided \"cachedir='/tmp/joblib'\", use \"location='/tmp/joblib'\" instead.\n",
      "  \n"
     ]
    }
   ],
   "source": [
    "from joblib import Memory\n",
    "memory = Memory(cachedir='/tmp/joblib', verbose=0)\n",
    "\n",
    "# decorate the function to be cached\n",
    "@memory.cache\n",
    "def f(x): \n",
    "    print ('Running f(%s)' % (x) )\n",
    "    return x*x\n",
    "\n",
    "print( f(3) )\n",
    "#> Running f(3)\n",
    "#  9"
   ]
  },
  {
   "cell_type": "code",
   "execution_count": 4,
   "metadata": {},
   "outputs": [
    {
     "name": "stdout",
     "output_type": "stream",
     "text": [
      "9\n"
     ]
    }
   ],
   "source": [
    "#When we call this function twice with the same argument, it does not get \n",
    "#executed the second time, and the output gets loaded from the cache (pickle file)\n",
    "print( f(3) )\n",
    "#> 9\n"
   ]
  },
  {
   "cell_type": "code",
   "execution_count": 5,
   "metadata": {},
   "outputs": [
    {
     "name": "stdout",
     "output_type": "stream",
     "text": [
      "4\n"
     ]
    }
   ],
   "source": [
    "#However, when we call it a third time, with a different argument, the \n",
    "#output gets recomputed:\n",
    "print (f(2) )\n",
    "#> 4"
   ]
  },
  {
   "cell_type": "markdown",
   "metadata": {},
   "source": [
    "## Numba -  Just-In-Time (JIT) Compilation\n",
    "http://numba.pydata.org <br>\n",
    "http://numba.pydata.org/numba-doc/latest/user/talks.html <br>\n",
    "http://numba.pydata.org/numba-doc/latest/user/5minguide.html\n",
    "<hr>"
   ]
  },
  {
   "cell_type": "code",
   "execution_count": 6,
   "metadata": {
    "collapsed": true
   },
   "outputs": [],
   "source": [
    "#%%\n",
    "# Numba  - Code and text from http://numba.pydata.org\n",
    "#\n",
    "#Numba gives you the power to speed up your applications with high performance \n",
    "#functions written directly in Python.\n",
    "#\n",
    "#Numba generates optimized machine code from pure Python code using the LLVM \n",
    "#compiler infrastructure. With a few simple annotations, array-oriented and \n",
    "#math-heavy Python code can be just-in-time optimized to performance similar \n",
    "#as C, C++ and Fortran, without having to switch languages or Python \n",
    "#interpreters.\n",
    "#\n",
    "#Numba's main features are:\n",
    "# * on-the-fly code generation (at import time or runtime, at the user's preference) \n",
    "# * native code generation for the CPU (default) and GPU hardware\n",
    "# * integration with the Python scientific software stack (thanks to Numpy)\n",
    "#\n",
    "# see also \n",
    "#  http://continuum.io/blog/numba_performance\n",
    "#  http://continuum.io/blog/tags/Numba \n",
    "#  http://en.wikipedia.org/wiki/Numba"
   ]
  },
  {
   "cell_type": "code",
   "execution_count": 7,
   "metadata": {
    "collapsed": true
   },
   "outputs": [],
   "source": [
    "# !pip install numba #uncomment and run this if not installed"
   ]
  },
  {
   "cell_type": "code",
   "execution_count": 8,
   "metadata": {
    "collapsed": true
   },
   "outputs": [],
   "source": [
    "##############\n",
    "# JIT  - Just-In-Time compilation\n",
    "\n",
    "from numba import jit\n",
    "from numpy import arange\n",
    "\n",
    "import time"
   ]
  },
  {
   "cell_type": "code",
   "execution_count": 9,
   "metadata": {
    "collapsed": true
   },
   "outputs": [],
   "source": [
    "# jit decorator tells Numba to compile this function. Uncomment to see \n",
    "# performance difference.\n",
    "# The argument types will be inferred by Numba when function is called.\n",
    "@jit\n",
    "def sum2d(arr):\n",
    "    M, N = arr.shape\n",
    "    result = 0.0\n",
    "    for i in range(M):\n",
    "        for j in range(N):\n",
    "            result += arr[i,j]\n",
    "    return result"
   ]
  },
  {
   "cell_type": "code",
   "execution_count": 10,
   "metadata": {},
   "outputs": [
    {
     "name": "stdout",
     "output_type": "stream",
     "text": [
      "40499995500000.0\n"
     ]
    }
   ],
   "source": [
    "a = arange(9000000).reshape(3000,3000)\n",
    "\n",
    "start = time.time()\n",
    "print(sum2d(a))\n",
    "#> 4.04999955e+13\n",
    "end = time.time()"
   ]
  },
  {
   "cell_type": "code",
   "execution_count": 11,
   "metadata": {},
   "outputs": [
    {
     "name": "stdout",
     "output_type": "stream",
     "text": [
      "0.1413860321044922 sec\n"
     ]
    }
   ],
   "source": [
    "print (\"%s sec\" % (end - start))\n",
    "#> 0.119330883026 sec    (with JIT on my laptop)\n",
    "#> 1.76066303253 sec     (without JIT on my laptop)"
   ]
  },
  {
   "cell_type": "code",
   "execution_count": 12,
   "metadata": {
    "collapsed": true
   },
   "outputs": [],
   "source": [
    "##############\n",
    "#Vectorization\n",
    "#\n",
    "#Using vectorize(), you write your function as operating over input scalars, \n",
    "#rather than arrays. Numba will generate the surrounding loop (or kernel) \n",
    "#allowing efficient iteration over the actual inputs.\n",
    "\n",
    "from numba import vectorize, float64"
   ]
  },
  {
   "cell_type": "code",
   "execution_count": 13,
   "metadata": {
    "collapsed": true
   },
   "outputs": [],
   "source": [
    "@vectorize([float64(float64, float64)])\n",
    "def f(x, y):\n",
    "    return x + y\n",
    "    \n",
    "a = arange(10)"
   ]
  },
  {
   "cell_type": "code",
   "execution_count": 14,
   "metadata": {},
   "outputs": [
    {
     "name": "stdout",
     "output_type": "stream",
     "text": [
      "[0 1 2 3 4 5 6 7 8 9]\n"
     ]
    }
   ],
   "source": [
    "print (a)\n",
    "#> [0 1 2 3 4 5 6 7 8 9]"
   ]
  },
  {
   "cell_type": "code",
   "execution_count": 15,
   "metadata": {},
   "outputs": [
    {
     "name": "stdout",
     "output_type": "stream",
     "text": [
      "[ 0.  2.  4.  6.  8. 10. 12. 14. 16. 18.]\n"
     ]
    }
   ],
   "source": [
    "print (f(a,a))\n",
    "#> [  0.   2.   4.   6.   8.  10.  12.  14.  16.  18.]"
   ]
  },
  {
   "cell_type": "code",
   "execution_count": 16,
   "metadata": {
    "collapsed": true
   },
   "outputs": [],
   "source": [
    "#While vectorize() allows you to write ufuncs that work on one element at \n",
    "#a time, the guvectorize() decorator takes the concept one step further \n",
    "#and allows you to write ufuncs that will work on an arbitrary number of \n",
    "#elements of input arrays, and take and return arrays of differing dimensions. \n",
    "#The typical example is a running median or a convolution filter. Contrary \n",
    "#to vectorize() functions, guvectorize() functions don't return their result \n",
    "#value: their take it as an array argument, which must be filled in by the \n",
    "#function. This is because the array is actually allocated by NumPy's dispatch \n",
    "#mechanism, which calls into the Numba-generated code.\n",
    "#\n",
    "#The underlying Python function simply adds a given scalar (y) to all elements \n",
    "#of a 1-dimension array. What's more interesting is the declaration. There are \n",
    "#two things there:\n",
    "#\n",
    "#* the declaration of input and output layouts, in symbolic form: (n),()->(n) tells \n",
    "#  NumPy that the function takes a n-element one-dimension array, a scalar \n",
    "#  (symbolically denoted by the empty tuple ()) and returns a n-element \n",
    "#  one-dimension array;\n",
    "#\n",
    "#* the list of supported concrete signatures as in @vectorize; here we only \n",
    "#  support int64 arrays.\n",
    "\n",
    "from numba import guvectorize, int64"
   ]
  },
  {
   "cell_type": "code",
   "execution_count": 17,
   "metadata": {
    "collapsed": true
   },
   "outputs": [],
   "source": [
    "@guvectorize([(int64[:], int64[:], int64[:])], '(n),()->(n)')\n",
    "def g(x, y, res):\n",
    "    for i in range(x.shape[0]):\n",
    "        res[i] = x[i] + y[0]\n",
    "        \n",
    "a = arange(6).reshape(2, 3)"
   ]
  },
  {
   "cell_type": "code",
   "execution_count": 18,
   "metadata": {},
   "outputs": [
    {
     "name": "stdout",
     "output_type": "stream",
     "text": [
      "[[10 11 12]\n",
      " [13 14 15]]\n"
     ]
    }
   ],
   "source": [
    "print (g(a, 10))\n",
    "#> [[10 11 12]\n",
    "#   [13 14 15]]"
   ]
  },
  {
   "cell_type": "markdown",
   "metadata": {},
   "source": [
    "###  Mandelbrot set with Numba JIT optimization\n",
    "<hr>"
   ]
  },
  {
   "cell_type": "code",
   "execution_count": 19,
   "metadata": {
    "collapsed": true
   },
   "outputs": [],
   "source": [
    "import numpy as np\n",
    "import pylab\n",
    "\n",
    "from numba import jit\n",
    "import time"
   ]
  },
  {
   "cell_type": "code",
   "execution_count": 20,
   "metadata": {
    "collapsed": true
   },
   "outputs": [],
   "source": [
    "@jit\n",
    "def mandel(x, y, max_iters):\n",
    "    \"\"\"\n",
    "    Given the real and imaginary parts of a complex number,\n",
    "    determine if it is a candidate for membership in the Mandelbrot\n",
    "    set given a fixed number of iterations.\n",
    "    \"\"\"\n",
    "    c = complex(x,y)\n",
    "    z = 0j\n",
    "    for i in range(max_iters):\n",
    "        z = z*z + c\n",
    "        if z.real * z.real + z.imag * z.imag >= 4:\n",
    "            return 255 * i // max_iters\n",
    "\n",
    "    return 255"
   ]
  },
  {
   "cell_type": "code",
   "execution_count": 21,
   "metadata": {
    "collapsed": true
   },
   "outputs": [],
   "source": [
    "@jit(nopython=True)\n",
    "def create_fractal(min_x, max_x, min_y, max_y, image, iters):\n",
    "    height = image.shape[0]\n",
    "    width = image.shape[1]\n",
    "\n",
    "    pixel_size_x = (max_x - min_x) / width\n",
    "    pixel_size_y = (max_y - min_y) / height\n",
    "    for x in range(width):\n",
    "        real = min_x + x * pixel_size_x\n",
    "        for y in range(height):\n",
    "            imag = min_y + y * pixel_size_y\n",
    "            color = mandel(real, imag, iters)\n",
    "            image[y, x] = color\n",
    "\n",
    "    return image\n",
    "\n",
    "image = np.zeros((700, 1400), dtype=np.uint8)"
   ]
  },
  {
   "cell_type": "code",
   "execution_count": 22,
   "metadata": {},
   "outputs": [
    {
     "name": "stdout",
     "output_type": "stream",
     "text": [
      "0.22002601623535156 sec\n"
     ]
    },
    {
     "data": {
      "image/png": "[encoded data removed]",
      "text/plain": [
       "<matplotlib.figure.Figure at 0x10ff62518>"
      ]
     },
     "metadata": {},
     "output_type": "display_data"
    }
   ],
   "source": [
    "start = time.time()\n",
    "create_fractal(-2.0, 1.0, -1.0, 1.0, image, 20)\n",
    "end = time.time()\n",
    "print (\"%s sec\" % (end - start))\n",
    "\n",
    "#> 0.245831012726 sec   (with JIT on, on my laptop)\n",
    "#> 4.82949304581 sec    (with JIT off, on my laptop)\n",
    "\n",
    "pylab.imshow(image)\n",
    "pylab.gray()\n",
    "pylab.show()"
   ]
  },
  {
   "cell_type": "markdown",
   "metadata": {
    "collapsed": true
   },
   "source": [
    "#### Other references\n",
    "https://cython.org C-Extensions for Python <br>\n",
    "https://pypy.org"
   ]
  }
 ],
 "metadata": {
  "kernelspec": {
   "display_name": "Python 3",
   "language": "python",
   "name": "python3"
  },
  "language_info": {
   "codemirror_mode": {
    "name": "ipython",
    "version": 3
   },
   "file_extension": ".py",
   "mimetype": "text/x-python",
   "name": "python",
   "nbconvert_exporter": "python",
   "pygments_lexer": "ipython3",
   "version": "3.6.2"
  }
 },
 "nbformat": 4,
 "nbformat_minor": 2
}
