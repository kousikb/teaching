{
 "cells": [
  {
   "cell_type": "markdown",
   "metadata": {},
   "source": [
    "## Python - A Crash Course By Example\n",
    "## Data Access\n",
    "Dr. Victor Pankratius<br>\n",
    "Massachusetts Institute of Technology<br>\n",
    "http://www.victorpankratius.com\n",
    "\n",
    "<hr>"
   ]
  },
  {
   "cell_type": "markdown",
   "metadata": {},
   "source": [
    "## Accessing Text Files"
   ]
  },
  {
   "cell_type": "code",
   "execution_count": 1,
   "metadata": {
    "collapsed": true
   },
   "outputs": [],
   "source": [
    "# Text files\n",
    "#\n",
    "# Write some data to a file\n",
    "f = open(\"demofile.txt\", \"w\")  #open for write\n",
    "f.write( \"line1a, line1b\\nline2a, line2b\\n\");\n",
    "f.write(\"line3a, line3b\\n\")\n",
    "f.close()"
   ]
  },
  {
   "cell_type": "code",
   "execution_count": 2,
   "metadata": {},
   "outputs": [
    {
     "name": "stdout",
     "output_type": "stream",
     "text": [
      "Reading from file:  demofile.txt\n",
      "line1a, line1b\n",
      "line2a, line2b\n",
      "line3a, line3b\n",
      "\n"
     ]
    }
   ],
   "source": [
    "# Open a file\n",
    "f = open(\"demofile.txt\", \"r\")\n",
    "print (\"Reading from file: \", f.name)\n",
    "print (f.read())\n",
    "f.close()\n",
    "\n",
    "#> Reading from file:  demofile.txt\n",
    "# line1a, line1b\n",
    "# line2a, line2b\n",
    "# line3a, line3b"
   ]
  },
  {
   "cell_type": "code",
   "execution_count": 3,
   "metadata": {},
   "outputs": [
    {
     "name": "stdout",
     "output_type": "stream",
     "text": [
      "line1a, line1b\n",
      "\n",
      "line2a, line2b\n",
      "\n",
      "line3a, line3b\n",
      "\n"
     ]
    }
   ],
   "source": [
    "f = open(\"demofile.txt\", \"r\")\n",
    "for line in f:\n",
    "    print (line)\n",
    "#> line1a, line1b\n",
    "#\n",
    "#  line2a, line2b\n",
    "#\n",
    "#  line3a, line3b"
   ]
  },
  {
   "cell_type": "code",
   "execution_count": 4,
   "metadata": {},
   "outputs": [
    {
     "name": "stdout",
     "output_type": "stream",
     "text": [
      "line1a, line1b\n",
      "line2a, line2b\n",
      "line3a, line3b\n",
      "\n"
     ]
    }
   ],
   "source": [
    "#alternative\n",
    "with open(\"demofile.txt\", \"r\") as f:\n",
    "    lines = f.read()\n",
    "    print (lines)\n",
    "    \n",
    "#> line1a, line1b\n",
    "#  line2a, line2b\n",
    "#  line3a, line3b\n",
    "#"
   ]
  },
  {
   "cell_type": "code",
   "execution_count": 5,
   "metadata": {},
   "outputs": [
    {
     "name": "stdout",
     "output_type": "stream",
     "text": [
      "['line1a, line1b'] ['line1a', 'line1b', ''] ['1', '1']\n",
      "['line2a, line2b'] ['line2a', 'line2b', ''] ['2', '2']\n",
      "['line3a, line3b'] ['line3a', 'line3b', ''] ['3', '3']\n"
     ]
    }
   ],
   "source": [
    "#-------------------------------------------------\n",
    "#split, filter strings using 'regular expressions'\n",
    "\n",
    "import re  #regular expression operations\n",
    "with open(\"demofile.txt\", \"r\") as f:\n",
    "    lines = f.readlines()\n",
    "    for l in lines:\n",
    "        split1 = l.splitlines()\n",
    "        split2 = re.split('\\W+',l)\n",
    "        split3 = re.findall('([0-9])+',l)\n",
    "        print (split1, split2, split3)\n",
    "\n",
    "        \n",
    "#['line1a, line1b'] ['line1a', 'line1b', ''] ['1', '1']\n",
    "#['line2a, line2b'] ['line2a', 'line2b', ''] ['2', '2']\n",
    "#['line3a, line3b'] ['line3a', 'line3b', ''] ['3', '3']"
   ]
  },
  {
   "cell_type": "markdown",
   "metadata": {},
   "source": [
    "<hr>\n",
    "## CSV Files\n",
    "(comma separated values)"
   ]
  },
  {
   "cell_type": "code",
   "execution_count": 6,
   "metadata": {},
   "outputs": [
    {
     "name": "stdout",
     "output_type": "stream",
     "text": [
      "['one', 'two', 'three', '   four', ' five']\n",
      "['one', 'two', 'three', 'four', 'five']\n"
     ]
    }
   ],
   "source": [
    "import csv\n",
    "for row in csv.reader(['one,two,three,   four, five'], delimiter=','):\n",
    "    print (row)\n",
    "    print (  [e.strip() for e in row]  )  \n",
    "\n",
    "#> ['one', 'two', 'three', '   four', ' five']\n",
    "#  ['one', 'two', 'three', 'four', 'five']"
   ]
  },
  {
   "cell_type": "code",
   "execution_count": 7,
   "metadata": {
    "collapsed": true
   },
   "outputs": [],
   "source": [
    "with open('demoCSVfile.csv', 'w') as fp:\n",
    "    a = csv.writer(fp, delimiter=',')\n",
    "    data = [['X', 'Y'],\n",
    "            ['1', '42'],\n",
    "            ['2', '43']]\n",
    "    a.writerows(data)"
   ]
  },
  {
   "cell_type": "code",
   "execution_count": 8,
   "metadata": {},
   "outputs": [
    {
     "name": "stdout",
     "output_type": "stream",
     "text": [
      "['X', 'Y']\n",
      "['1', '42']\n",
      "['2', '43']\n"
     ]
    }
   ],
   "source": [
    "with open('demoCSVfile.csv') as csvfile:\n",
    "    reader = csv.reader(csvfile)\n",
    "    for row in reader:\n",
    "        print (row)\n",
    "\n",
    "#> ['X', 'Y']\n",
    "#  ['1', '42']\n",
    "#  ['2', '43']"
   ]
  },
  {
   "cell_type": "code",
   "execution_count": 9,
   "metadata": {},
   "outputs": [
    {
     "name": "stdout",
     "output_type": "stream",
     "text": [
      "OrderedDict([('X', '1'), ('Y', '42')])\n",
      "43\n",
      "OrderedDict([('X', '2'), ('Y', '43')])\n",
      "44\n"
     ]
    }
   ],
   "source": [
    "with open('demoCSVfile.csv') as csvfile:\n",
    "    reader = csv.DictReader(csvfile)\n",
    "    for row in reader:\n",
    "        print (row)\n",
    "        print (int(row['Y'])+1)\n",
    "        \n",
    "#> {'Y': '42', 'X': '1'}\n",
    "#  43\n",
    "#  {'Y': '43', 'X': '2'}\n",
    "#  44"
   ]
  },
  {
   "cell_type": "markdown",
   "metadata": {},
   "source": [
    "<hr>\n",
    "## XML Files\n",
    "eXtensible Markup Language, see http://www.w3.org/XML/"
   ]
  },
  {
   "cell_type": "code",
   "execution_count": 10,
   "metadata": {
    "collapsed": true
   },
   "outputs": [],
   "source": [
    "import xml.etree.ElementTree as ET\n",
    "\n",
    "f = open(\"demoXMLfile.xml\", \"w\") #there are also other ways to create XML\n",
    "f.write(\n",
    "\"\"\"<planets>\n",
    "   <Earth>\n",
    "       <radius unit=\"m\">\n",
    "           6378\n",
    "       </radius>\n",
    "       <mass unit=\"kg\">\n",
    "           5.97e24\n",
    "       </mass>\n",
    "   </Earth>\n",
    "   <Mars>\n",
    "       <radius unit=\"m\">\n",
    "           3397\n",
    "       </radius>\n",
    "       <mass unit=\"kg\">\n",
    "           6.39e21\n",
    "       </mass>\n",
    "   </Mars>\n",
    "</planets>\"\"\");\n",
    "f.close()"
   ]
  },
  {
   "cell_type": "code",
   "execution_count": 11,
   "metadata": {},
   "outputs": [
    {
     "name": "stdout",
     "output_type": "stream",
     "text": [
      "6378\n",
      "m\n"
     ]
    }
   ],
   "source": [
    "filename='demoXMLfile.xml'\n",
    "tree = ET.parse(filename) \n",
    "root = tree.getroot()\n",
    "\n",
    "print ( int(root.find('./Earth/radius').text)     )    #> 6378\n",
    "print ( root.find('./Earth/radius').attrib['unit'])    #> m"
   ]
  },
  {
   "cell_type": "code",
   "execution_count": 12,
   "metadata": {},
   "outputs": [
    {
     "name": "stdout",
     "output_type": "stream",
     "text": [
      "tag: planets, attribute: {}\n",
      "tag: Earth, attribute: {}\n",
      "tag: radius, attribute: {'unit': 'm'}\n",
      "tag: mass, attribute: {'unit': 'kg'}\n",
      "tag: Mars, attribute: {}\n",
      "tag: radius, attribute: {'unit': 'm'}\n",
      "tag: mass, attribute: {'unit': 'kg'}\n"
     ]
    }
   ],
   "source": [
    "#start an iterator at root over all tree elements\n",
    "for e in root.iter():\n",
    "    print (\"tag: %s, attribute: %s\" % (e.tag, e.attrib))\n",
    "    \n",
    "#> tag: planets, attribute: {}\n",
    "#  tag: Earth, attribute: {}\n",
    "#  tag: radius, attribute: {'unit': 'm'}\n",
    "#  tag: mass, attribute: {'unit': 'kg'}\n",
    "#  tag: Mars, attribute: {}\n",
    "#  tag: radius, attribute: {'unit': 'm'}\n",
    "#  tag: mass, attribute: {'unit': 'kg'}\n"
   ]
  },
  {
   "cell_type": "code",
   "execution_count": 13,
   "metadata": {},
   "outputs": [
    {
     "name": "stdout",
     "output_type": "stream",
     "text": [
      "6378\n",
      "3397\n"
     ]
    }
   ],
   "source": [
    "#see XPath language definition for search pattern in 'findall'\n",
    "for element in root.findall(\".//radius\"):\n",
    "    print (int(element.text) )                #find and print all radii\n",
    "\n",
    "#> 6378\n",
    "#  3397"
   ]
  },
  {
   "cell_type": "code",
   "execution_count": 14,
   "metadata": {},
   "outputs": [
    {
     "name": "stdout",
     "output_type": "stream",
     "text": [
      "6378\n"
     ]
    }
   ],
   "source": [
    "#print max of all radii\n",
    "print ( max([ int(e.text) for e in root.findall(\".//radius\")]) )\n",
    "#> 6378"
   ]
  },
  {
   "cell_type": "markdown",
   "metadata": {},
   "source": [
    "<hr>\n",
    "## SQL Database Demo\n",
    "- SQL = Structured Query Language\n",
    "- See https://www.sqlite.org/lang.html for sqlite3 implementation\n",
    "- Demo values from http://exoplanetarchive.ipac.caltech.edu"
   ]
  },
  {
   "cell_type": "code",
   "execution_count": 15,
   "metadata": {
    "collapsed": true
   },
   "outputs": [],
   "source": [
    "#---------------------------------------------------------------\n",
    "#--Create this schema:\n",
    "#\n",
    "# Star (id, constellationID, constellationBrightness, distance)\n",
    "#   1, 1, 4, 252\n",
    "#   2, 2, 6, 182\n",
    "#   3, 1, 47, 45.9\n",
    "#\n",
    "# Constellation (id, name, abbrev, genitive, quadrant, area)\n",
    "#   1, Ursa Major, UMa, Urasae Majoris, NQ2, 1280\n",
    "#   2, Lynx, Lyn, Lyncis, NQ2, 545\n",
    "#\n",
    "# Planet (HDnumber, planetletter, orbitalPeriod)\n",
    "#   73108, b, 269.30\n",
    "#   45410, b, 874.774 \n",
    "#   95128, d, 14002\n",
    "#\n",
    "# DiscoveryMethod (id, name)\n",
    "#   1, Radial Velocity\n",
    "#   2, Imaging\n",
    "#   3, Transit\n",
    "#\n",
    "# discovered (planetID, starID, discoverymethodID)\n",
    "#   73108, 1, 1\n",
    "#   45410, 2, 1\n",
    "#   95128, 3, 1\n",
    "#---------------------------------------------------------------\n"
   ]
  },
  {
   "cell_type": "code",
   "execution_count": 16,
   "metadata": {
    "collapsed": true
   },
   "outputs": [],
   "source": [
    "#remove our demo file if it already exists\n",
    "import os\n",
    "os.remove('demoDatabase.db') if os.path.exists('demoDatabase.db') else None\n",
    "\n",
    "#using the sqlite3 database management system (DBMS) to create a database\n",
    "import sqlite3\n",
    "conn = sqlite3.connect('demoDatabase.db')\n",
    "conn.text_factory = str  #retrieve DB strings in UTF-8 format\n",
    "c = conn.cursor()\n"
   ]
  },
  {
   "cell_type": "code",
   "execution_count": 17,
   "metadata": {},
   "outputs": [
    {
     "data": {
      "text/plain": [
       "<sqlite3.Cursor at 0x10f5e1f10>"
      ]
     },
     "execution_count": 17,
     "metadata": {},
     "output_type": "execute_result"
    }
   ],
   "source": [
    "#---------------------------------------------------------------\n",
    "# create database schema, i.e., tables etc.\n",
    "#---------------------------------------------------------------\n",
    "c.execute('''\n",
    "CREATE TABLE star\n",
    "    (id integer PRIMARY KEY, constellationID integer, \n",
    "     constellationBrightness integer, distance real,\n",
    "     FOREIGN KEY(constellationID) REFERENCES constellation(id));\n",
    "''')\n",
    "\n",
    "c.execute('''\n",
    "CREATE TABLE constellation\n",
    "    (id integer PRIMARY KEY, name text, abbrev text, genitive text, \n",
    "     quadrant text, area real);\n",
    "''')\n",
    "\n",
    "c.execute('''\n",
    "CREATE TABLE planet\n",
    "    (HDnumber integer PRIMARY KEY, planetletter text, orbitalPeriod real);\n",
    "''')\n",
    "\n",
    "c.execute('''\n",
    "CREATE TABLE discoveryMethod\n",
    "    (id integer PRIMARY KEY, name);\n",
    "''')\n",
    "\n",
    "c.execute('''\n",
    "CREATE TABLE discovered\n",
    "(planetID integer, starID integer, discoverymethodID integer,\n",
    " FOREIGN KEY(planetID) REFERENCES planet(HDnumber),\n",
    " FOREIGN KEY(starID) REFERENCES star(id),\n",
    " FOREIGN KEY(discoverymethodID) REFERENCES discoveryMethod(id) \n",
    " );\n",
    "''')"
   ]
  },
  {
   "cell_type": "code",
   "execution_count": 18,
   "metadata": {},
   "outputs": [
    {
     "data": {
      "text/plain": [
       "<sqlite3.Cursor at 0x10f5e1f10>"
      ]
     },
     "execution_count": 18,
     "metadata": {},
     "output_type": "execute_result"
    }
   ],
   "source": [
    "#---------------------------------------------------------------\n",
    "## insert values into tables\n",
    "#---------------------------------------------------------------\n",
    "starValues = [\n",
    "(1, 1, 4, 252),\n",
    "(2, 2, 6, 182),\n",
    "(3, 1, 47, 45.9)\n",
    "] \n",
    "c.executemany('INSERT INTO star VALUES (?,?,?,?)',starValues)\n",
    "\n",
    "constellationValues = [\n",
    "(1, 'Ursa Major', 'UMa', 'Urasae Majoris', 'NQ2', 1280),\n",
    "(2, 'Lynx', 'Lyn', 'Lyncis', 'NQ2', 545)\n",
    "] \n",
    "c.executemany('INSERT INTO constellation VALUES (?,?,?,?,?,?)',constellationValues)\n",
    "\n",
    "planetValues = [\n",
    "(73108, 'b', 269.30),\n",
    "(45410, 'b', 874.774),\n",
    "(95128, 'd', 14002)\n",
    "] \n",
    "c.executemany('INSERT INTO planet VALUES (?,?,?)',planetValues)\n",
    "\n",
    "discoveryMethodValues = [\n",
    "(1, 'Radial Velocity'),\n",
    "(2, 'Imaging'),\n",
    "(3, 'Transit')\n",
    "] \n",
    "c.executemany('INSERT INTO discoveryMethod VALUES (?,?)',discoveryMethodValues)\n",
    "\n",
    "discoveredValues = [\n",
    "(73108, 1, 1),\n",
    "(45410, 2, 1),\n",
    "(95128, 3, 1)\n",
    "] \n",
    "c.executemany('INSERT INTO discovered VALUES (?,?,?)',discoveredValues)\n",
    "#---------------------------------------------------------------\n"
   ]
  },
  {
   "cell_type": "code",
   "execution_count": 19,
   "metadata": {
    "collapsed": true
   },
   "outputs": [],
   "source": [
    "# Save changes\n",
    "conn.commit()"
   ]
  },
  {
   "cell_type": "code",
   "execution_count": 20,
   "metadata": {},
   "outputs": [
    {
     "name": "stdout",
     "output_type": "stream",
     "text": [
      "(1, 1, 4, 252.0)\n",
      "(2, 2, 6, 182.0)\n",
      "(3, 1, 47, 45.9)\n"
     ]
    }
   ],
   "source": [
    "#---------------------------------------------------------------\n",
    "# Query data demo\n",
    "#---------------------------------------------------------------\n",
    "#select everything in 'star' table\n",
    "for row in c.execute('SELECT * FROM star'):\n",
    "    print (row)\n",
    "#> (1, 1, 4, 252.0)\n",
    "#  (2, 2, 6, 182.0)\n",
    "#  (3, 1, 47, 45.9)"
   ]
  },
  {
   "cell_type": "code",
   "execution_count": 21,
   "metadata": {},
   "outputs": [
    {
     "name": "stdout",
     "output_type": "stream",
     "text": [
      "(4, 'Urasae Majoris')\n",
      "(6, 'Lyncis')\n",
      "(47, 'Urasae Majoris')\n"
     ]
    }
   ],
   "source": [
    "#---------------------------------------------------------------\n",
    "#show all stars and their constBrightness & constellation genitive\n",
    "for row in c.execute('SELECT star.constellationBrightness, \\\n",
    "                             constellation.genitive \\\n",
    "                      FROM star, constellation \\\n",
    "                      WHERE star.constellationID=constellation.ID'):\n",
    "    print (row)\n",
    "#> (4, 'Urasae Majoris')\n",
    "#  (6, 'Lyncis')\n",
    "#  (47, 'Urasae Majoris')"
   ]
  },
  {
   "cell_type": "code",
   "execution_count": 22,
   "metadata": {},
   "outputs": [
    {
     "name": "stdout",
     "output_type": "stream",
     "text": [
      "(73108, 269.3, 4, 'Urasae Majoris', 'Radial Velocity')\n",
      "(45410, 874.774, 6, 'Lyncis', 'Radial Velocity')\n",
      "(95128, 14002.0, 47, 'Urasae Majoris', 'Radial Velocity')\n"
     ]
    }
   ],
   "source": [
    "#---------------------------------------------------------------\n",
    "#show discovered planets, orbital period, their host star, discovery method\n",
    "for row in c.execute('SELECT p.HDnumber, \\\n",
    "                             p.orbitalperiod, \\\n",
    "                             s.constellationBrightness, \\\n",
    "                             c.genitive, \\\n",
    "                             dm.name \\\n",
    "                      FROM star s, constellation c, planet p, \\\n",
    "                           discoverymethod dm, discovered d \\\n",
    "                      WHERE s.constellationID=c.ID AND \\\n",
    "                           d.planetID = p.HDnumber AND \\\n",
    "                           d.starID=s.id AND \\\n",
    "                           d.discoverymethodID=dm.id'):\n",
    "    print (row)\n",
    "#> (73108, 269.3, 4, 'Urasae Majoris', 'Radial Velocity')\n",
    "#  (45410, 874.774, 6, 'Lyncis', 'Radial Velocity')\n",
    "#  (95128, 14002.0, 47, 'Urasae Majoris', 'Radial Velocity')"
   ]
  },
  {
   "cell_type": "code",
   "execution_count": 23,
   "metadata": {},
   "outputs": [
    {
     "name": "stdout",
     "output_type": "stream",
     "text": [
      "(73108,)\n",
      "(95128,)\n"
     ]
    }
   ],
   "source": [
    "#---------------------------------------------------------------\n",
    "#select planets discovered in constellations with areas >600 sq.deg.\n",
    "for row in c.execute('SELECT p.HDnumber \\\n",
    "                      FROM star s, constellation c, planet p, discovered d \\\n",
    "                      WHERE s.constellationID=c.ID AND \\\n",
    "                            d.planetID = p.HDnumber AND \\\n",
    "                            d.starID=s.id AND \\\n",
    "                            c.area > 600'):\n",
    "    print (row)\n",
    "#> (73108,)\n",
    "#  (95128,)\n"
   ]
  },
  {
   "cell_type": "code",
   "execution_count": 24,
   "metadata": {},
   "outputs": [
    {
     "name": "stdout",
     "output_type": "stream",
     "text": [
      "('NQ2', 'Radial Velocity')\n"
     ]
    }
   ],
   "source": [
    "#---------------------------------------------------------------\n",
    "#show all distinct discovery methods for each quadrant\n",
    "for row in c.execute('SELECT DISTINCT c.quadrant, dm.name \\\n",
    "                      FROM star s, constellation c, \\\n",
    "                           discovered d, discoverymethod dm \\\n",
    "                      WHERE s.id=c.id AND \\\n",
    "                            d.discoverymethodID=dm.id AND \\\n",
    "                            d.starID = s.id'):\n",
    "    print (row)\n",
    "#> ('NQ2', 'Radial Velocity')"
   ]
  },
  {
   "cell_type": "code",
   "execution_count": 25,
   "metadata": {},
   "outputs": [
    {
     "name": "stdout",
     "output_type": "stream",
     "text": [
      "(159.96666666666667,)\n"
     ]
    }
   ],
   "source": [
    "#---------------------------------------------------------------\n",
    "#show average star distance in ly\n",
    "for row in c.execute('SELECT avg(s.distance) \\\n",
    "                      FROM star s'):\n",
    "    print (row)\n",
    "#> (159.96666666666667,)"
   ]
  },
  {
   "cell_type": "code",
   "execution_count": 26,
   "metadata": {
    "scrolled": true
   },
   "outputs": [
    {
     "name": "stdout",
     "output_type": "stream",
     "text": [
      "(572.037,)\n",
      "(14002.0,)\n"
     ]
    }
   ],
   "source": [
    "#---------------------------------------------------------------\n",
    "#show average orbital period of 'b'stars\n",
    "for row in c.execute('SELECT avg(p.orbitalperiod) \\\n",
    "                      FROM planet p \\\n",
    "                      GROUP BY p.planetletter'):\n",
    "    print (row)\n",
    "#> (572.037,)\n",
    "#  (14002.0,)\n",
    "\n",
    "conn.close()"
   ]
  }
 ],
 "metadata": {
  "kernelspec": {
   "display_name": "Python 3",
   "language": "python",
   "name": "python3"
  },
  "language_info": {
   "codemirror_mode": {
    "name": "ipython",
    "version": 3
   },
   "file_extension": ".py",
   "mimetype": "text/x-python",
   "name": "python",
   "nbconvert_exporter": "python",
   "pygments_lexer": "ipython3",
   "version": "3.6.2"
  }
 },
 "nbformat": 4,
 "nbformat_minor": 1
}
